{
 "cells": [
  {
   "cell_type": "markdown",
   "id": "alternative-tennis",
   "metadata": {},
   "source": [
    "# Final Exam\n",
    "## Rohit Gangurde\n",
    "## Collaborators : None"
   ]
  },
  {
   "cell_type": "markdown",
   "id": "afraid-comment",
   "metadata": {},
   "source": [
    "****\n",
    "## Q. 1"
   ]
  },
  {
   "cell_type": "code",
   "execution_count": 1,
   "id": "reasonable-luxembourg",
   "metadata": {},
   "outputs": [],
   "source": [
    "from sklearn.datasets import load_iris\n",
    "from sklearn.model_selection import train_test_split\n",
    "import numpy as np\n",
    "from scipy.stats import multivariate_normal\n",
    "import matplotlib.pyplot as plt\n",
    "from sklearn.metrics import accuracy_score\n",
    "import math"
   ]
  },
  {
   "cell_type": "code",
   "execution_count": 2,
   "id": "paperback-pierre",
   "metadata": {},
   "outputs": [],
   "source": [
    "X, y = load_iris(return_X_y=True)"
   ]
  },
  {
   "cell_type": "code",
   "execution_count": 3,
   "id": "municipal-royalty",
   "metadata": {},
   "outputs": [],
   "source": [
    "x_tr, x_te, y_tr, y_te = train_test_split(X, y, test_size=0.33,\n",
    "                                          random_state=42)"
   ]
  },
  {
   "cell_type": "code",
   "execution_count": 4,
   "id": "environmental-navigation",
   "metadata": {},
   "outputs": [],
   "source": [
    "class GMM_EM:\n",
    "    \n",
    "    def __init__(self, n_components, iterations=100, viz=False, \n",
    "                 stopping_criteria='iteration', tol=1e-3):\n",
    "        self.n_components = n_components\n",
    "        self.max_iter = iterations\n",
    "        self.mu = None\n",
    "        self.pi = None\n",
    "        self.sigma = None\n",
    "        self.ll = list()\n",
    "        self.visualize = viz\n",
    "        if stopping_criteria.lower() not in ['iteration', 'tolerance']:\n",
    "            print('Invalid stopping criteria. Select one of the two : \\n\\t[1] iteration\\n\\t[2] tolerance\\nDefaulting to iteration.')\n",
    "            self.stopping_criteria = 'iteration'\n",
    "        else : self.stopping_criteria = stopping_criteria.lower()\n",
    "        self.tol = tol\n",
    "        self.iter_params = {}\n",
    "        \n",
    "    def fit(self, X):\n",
    "        \n",
    "        \"\"\"\n",
    "            Initialize random params\n",
    "        \"\"\"\n",
    "        \n",
    "        self.cov = 1e-5 * np.identity(len(X[0]))\n",
    "        self.mu = np.random.randint(min(X[:,0]), max(X[:,0]), size=(self.n_components, len(X[0])))\n",
    "        self.pi = [1/self.n_components for _ in range(self.n_components)]\n",
    "        self.sigma = np.zeros((self.n_components, len(X[0]), len(X[0])))\n",
    "        \n",
    "        for dim in range(len(self.sigma)): np.fill_diagonal(self.sigma[dim], 6)\n",
    "        \n",
    "        \"\"\"\n",
    "            E Step\n",
    "        \"\"\"\n",
    "        for iter in range(self.max_iter):\n",
    "            # ======== Init q_z with dim (n x k) ========== #\n",
    "            q_z = np.zeros((len(X), len(self.sigma)))\n",
    "            \n",
    "            for mu, sig, pi, i in zip(self.mu, self.sigma, self.pi, range(len(q_z[0]))):\n",
    "                sig += self.cov\n",
    "                N = multivariate_normal(mean=mu, cov=sig)\n",
    "                q_z[:, i] = pi * (N.pdf(X) / np.sum([pi_k*multivariate_normal(mean=mu_k, cov=sig_k).pdf(X)\n",
    "                                                     for pi_k, mu_k, sig_k in zip(self.pi, self.mu, self.sigma+self.cov)], axis=0))\n",
    "        \n",
    "            \"\"\"\n",
    "                M Step\n",
    "            \"\"\"\n",
    "            self.mu = []\n",
    "            self.sigma = []\n",
    "            self.pi = []\n",
    "\n",
    "            for i in range(len(q_z[0])):\n",
    "                sum_ = np.sum(q_z[:,i], axis=0)\n",
    "                mu_i = (1/sum_) * np.sum(X * q_z[:,i].reshape(len(X), 1), axis=0)\n",
    "                self.mu.append(mu_i)\n",
    "\n",
    "                self.sigma.append( ( (1/sum_)*np.dot((np.array(q_z[:,i]).reshape(len(X),1)*(X - mu_i)).T, (X - mu_i)) ) + self.cov)\n",
    "\n",
    "                self.pi.append(sum_/np.sum(q_z))\n",
    "            \n",
    "            self.iter_params[iter] = {'mu' : self.mu,\n",
    "                                      'sigma' : self.sigma,\n",
    "                                      'pi' : self.pi}\n",
    "            \n",
    "            log_likelihood = np.log(np.sum([k*multivariate_normal(self.mu[i],self.sigma[j]).pdf(X)\n",
    "                                                for k,i,j in zip(self.pi, range(len(self.mu)), range(len(self.sigma)))]))\n",
    "            if self.stopping_criteria == 'tolerance':\n",
    "                if len(self.ll) > 0 :\n",
    "                    if abs(self.ll[-1] - log_likelihood) < self.tol :\n",
    "                        self.ll.append(log_likelihood)\n",
    "                        break\n",
    "            self.ll.append(log_likelihood)\n",
    "        \n",
    "        if(self.visualize):\n",
    "            fig = plt.figure(figsize=(10,9))\n",
    "            ax = fig.add_subplot(111)\n",
    "            ax.set_title('Model Training')\n",
    "            ax.plot(range(0, len(self.ll),1), self.ll)\n",
    "            plt.xlabel('Iteration')\n",
    "            plt.ylabel('Log Likelihood')\n",
    "            plt.show()\n",
    "            \n",
    "    def predict_(self, X):\n",
    "        preds = np.zeros((len(X), self.n_components))\n",
    "        sum_ = np.sum([multivariate_normal(mean=mean, cov=cov).pdf(X)\n",
    "                                 for mean, cov in zip(self.mu, self.sigma)])\n",
    "        for mu, sig, i in zip(self.mu, self.sigma, range(self.n_components)):\n",
    "            p = multivariate_normal(mean=mu, cov=sig).pdf(X) / sum_\n",
    "            preds[:,i] = p\n",
    "        return preds\n",
    "    \n",
    "    def predict_proba(self, X):\n",
    "        return self.predict_(X)\n",
    "    \n",
    "    def predict(self, X):\n",
    "        return np.argmax(self.predict_(X), axis=1)\n",
    "    \n",
    "    \n",
    "    def log_likelihood(self): return self.ll if self.ll is not None else \"Run fit before retrieving Log Likelihood\"\n",
    "    \n",
    "    def best_iter(self): return np.argmax(self.ll)\n",
    "    \n",
    "    def set_params_iter(self, iter_) : \n",
    "        self.mu = self.iter_params[iter_]['mu']\n",
    "        self.sigma = self.iter_params[iter_]['sigma']\n",
    "        self.pi = self.iter_params[iter_]['pi']"
   ]
  },
  {
   "cell_type": "markdown",
   "id": "large-festival",
   "metadata": {},
   "source": [
    "### Example"
   ]
  },
  {
   "cell_type": "code",
   "execution_count": 5,
   "id": "indonesian-physics",
   "metadata": {},
   "outputs": [],
   "source": [
    "gmm = GMM_EM(3, viz=True, iterations=100)"
   ]
  },
  {
   "cell_type": "code",
   "execution_count": 6,
   "id": "built-spank",
   "metadata": {},
   "outputs": [
    {
     "data": {
      "image/png": "[encoded data removed]",
      "text/plain": [
       "<Figure size 720x648 with 1 Axes>"
      ]
     },
     "metadata": {
      "needs_background": "light"
     },
     "output_type": "display_data"
    }
   ],
   "source": [
    "gmm.fit(x_tr)"
   ]
  },
  {
   "cell_type": "code",
   "execution_count": 7,
   "id": "organic-modem",
   "metadata": {},
   "outputs": [
    {
     "name": "stdout",
     "output_type": "stream",
     "text": [
      "Accuracy score : 0.52\n"
     ]
    }
   ],
   "source": [
    "preds = gmm.predict(x_te)\n",
    "print('Accuracy score : {}'.format(accuracy_score(y_te, preds)))"
   ]
  },
  {
   "cell_type": "code",
   "execution_count": 8,
   "id": "returning-immunology",
   "metadata": {},
   "outputs": [],
   "source": [
    "best_iter = gmm.best_iter()"
   ]
  },
  {
   "cell_type": "code",
   "execution_count": 9,
   "id": "chicken-visit",
   "metadata": {},
   "outputs": [
    {
     "name": "stdout",
     "output_type": "stream",
     "text": [
      "Accuracy score on iteration 11 : 0.52\n"
     ]
    }
   ],
   "source": [
    "gmm.set_params_iter(best_iter)\n",
    "preds = gmm.predict(x_te)\n",
    "print('Accuracy score on iteration {} : {}'.format(best_iter,\n",
    "                                                   accuracy_score(y_te, preds)))"
   ]
  },
  {
   "cell_type": "code",
   "execution_count": 10,
   "id": "roman-practitioner",
   "metadata": {},
   "outputs": [
    {
     "data": {
      "text/plain": [
       "array([[4.39915160e-087, 3.29672780e-003, 7.36050323e-005],\n",
       "       [7.66970542e-003, 6.90311905e-025, 5.41320902e-017],\n",
       "       [1.32161563e-265, 1.31467506e-007, 6.15008122e-007],\n",
       "       [7.91752690e-081, 1.26841181e-002, 1.35928652e-002],\n",
       "       [8.25513373e-104, 9.46700362e-004, 9.46832356e-003],\n",
       "       [9.70787080e-003, 6.54508205e-022, 1.98460225e-011],\n",
       "       [4.10743127e-045, 1.09374700e-004, 1.45491574e-003],\n",
       "       [1.71661562e-141, 2.48798277e-004, 8.16718417e-022],\n",
       "       [3.16353699e-096, 9.61961935e-006, 7.85424416e-005],\n",
       "       [1.53901953e-055, 1.09280027e-003, 2.46682126e-002],\n",
       "       [2.12507410e-120, 1.05491077e-002, 1.75344754e-007],\n",
       "       [3.86726300e-002, 1.71897910e-016, 1.94870708e-012],\n",
       "       [8.72832632e-003, 2.76347499e-025, 2.67009056e-015],\n",
       "       [2.88107772e-002, 1.84359889e-016, 7.52808827e-014],\n",
       "       [6.42049717e-002, 2.61514717e-024, 3.90865213e-016],\n",
       "       [5.16969608e-088, 1.70717548e-003, 2.65007280e-003],\n",
       "       [5.62638591e-164, 8.04369852e-003, 1.27392393e-007],\n",
       "       [4.13675182e-055, 1.18503445e-003, 1.32994992e-002],\n",
       "       [6.39234702e-076, 8.97834077e-003, 1.24569649e-003],\n",
       "       [9.02019722e-157, 6.71570305e-003, 6.97666872e-010],\n",
       "       [5.94515007e-002, 1.27480777e-015, 4.71716528e-013],\n",
       "       [4.29824785e-104, 2.29659312e-002, 1.63238315e-004],\n",
       "       [6.33506276e-002, 1.11327721e-018, 1.94372908e-010],\n",
       "       [1.02828687e-152, 7.84880344e-003, 4.03878725e-007],\n",
       "       [2.72538202e-197, 2.78718581e-008, 4.39684399e-004],\n",
       "       [2.85745617e-144, 1.46459915e-003, 3.10402439e-019],\n",
       "       [2.20211493e-165, 1.20289540e-004, 3.03000548e-003],\n",
       "       [2.77176576e-173, 7.60770973e-003, 3.35829421e-009],\n",
       "       [6.82773504e-002, 3.56493338e-017, 1.52685542e-008],\n",
       "       [5.93975489e-002, 2.88965915e-015, 7.55403764e-012],\n",
       "       [1.85040758e-004, 1.88323797e-025, 9.28724226e-015],\n",
       "       [1.32381840e-003, 1.31409647e-036, 2.85252919e-022],\n",
       "       [1.37856119e-080, 1.74746112e-004, 1.94317487e-003],\n",
       "       [6.44955054e-002, 1.19828390e-017, 5.30547338e-015],\n",
       "       [1.58251404e-002, 1.37956803e-017, 5.59358990e-012],\n",
       "       [5.65388305e-123, 7.53850881e-004, 4.24207348e-008],\n",
       "       [1.28301951e-080, 1.18694178e-003, 4.80380505e-003],\n",
       "       [1.07685564e-001, 3.70986057e-021, 5.11583923e-015],\n",
       "       [1.05760437e-001, 1.95980646e-022, 8.79726885e-016],\n",
       "       [2.48669428e-003, 2.09975583e-029, 2.09143894e-026],\n",
       "       [8.01583193e-118, 8.25529986e-003, 4.70007092e-006],\n",
       "       [5.64506054e-077, 3.85710555e-004, 2.84673725e-004],\n",
       "       [7.19646830e-094, 1.35864290e-003, 7.51984876e-003],\n",
       "       [4.15342664e-003, 1.08640452e-029, 4.71752552e-016],\n",
       "       [5.88008414e-002, 2.65238718e-024, 2.67818406e-017],\n",
       "       [2.52933314e-048, 2.91777676e-004, 7.40404903e-003],\n",
       "       [3.69267175e-111, 7.07045486e-003, 1.15284595e-002],\n",
       "       [1.03262791e-132, 4.15922683e-003, 3.13349946e-003],\n",
       "       [7.58881910e-081, 4.67054747e-004, 4.03780730e-003],\n",
       "       [9.75130002e-191, 5.07761623e-004, 1.72614951e-013]])"
      ]
     },
     "execution_count": 10,
     "metadata": {},
     "output_type": "execute_result"
    }
   ],
   "source": [
    "gmm.predict_proba(x_te)"
   ]
  },
  {
   "cell_type": "markdown",
   "id": "otherwise-louisiana",
   "metadata": {},
   "source": [
    "### Comparing with Scikit-Learn's GaussianMixture"
   ]
  },
  {
   "cell_type": "code",
   "execution_count": 14,
   "id": "entire-kelly",
   "metadata": {},
   "outputs": [],
   "source": [
    "from sklearn.mixture import GaussianMixture\n",
    "\n",
    "gm = GaussianMixture(n_components=3).fit(x_tr)"
   ]
  },
  {
   "cell_type": "code",
   "execution_count": 15,
   "id": "express-rebel",
   "metadata": {},
   "outputs": [
    {
     "data": {
      "text/plain": [
       "0.32"
      ]
     },
     "execution_count": 15,
     "metadata": {},
     "output_type": "execute_result"
    }
   ],
   "source": [
    "accuracy_score(y_te, gm.predict(x_te))"
   ]
  },
  {
   "cell_type": "code",
   "execution_count": 16,
   "id": "mature-thunder",
   "metadata": {},
   "outputs": [
    {
     "data": {
      "text/plain": [
       "array([[9.66043325e-001, 1.97414020e-084, 3.39566754e-002],\n",
       "       [1.52945750e-036, 1.00000000e+000, 1.14776209e-059],\n",
       "       [1.79798855e-013, 4.64308873e-260, 1.00000000e+000],\n",
       "       [9.95389112e-001, 1.64845501e-079, 4.61088761e-003],\n",
       "       [9.98721451e-001, 7.74150853e-102, 1.27854947e-003],\n",
       "       [1.28513142e-028, 1.00000000e+000, 5.27849777e-051],\n",
       "       [9.99999020e-001, 2.27675196e-042, 9.80399162e-007],\n",
       "       [4.31382734e-010, 1.09293979e-137, 1.00000000e+000],\n",
       "       [3.68105925e-001, 6.50997202e-092, 6.31894075e-001],\n",
       "       [9.99997197e-001, 3.25702224e-054, 2.80301129e-006],\n",
       "       [3.16569470e-003, 3.83809929e-118, 9.96834305e-001],\n",
       "       [6.89830692e-025, 1.00000000e+000, 2.32294441e-044],\n",
       "       [2.16784565e-036, 1.00000000e+000, 1.45819366e-061],\n",
       "       [7.46591758e-026, 1.00000000e+000, 4.97492705e-045],\n",
       "       [2.36048259e-037, 1.00000000e+000, 9.21254830e-058],\n",
       "       [9.99109587e-001, 3.70468072e-086, 8.90412888e-004],\n",
       "       [1.93442067e-007, 2.65681158e-162, 9.99999807e-001],\n",
       "       [9.99974812e-001, 1.02974127e-053, 2.51880096e-005],\n",
       "       [9.88523775e-001, 3.81518626e-074, 1.14762252e-002],\n",
       "       [1.19415511e-008, 8.52106565e-155, 9.99999988e-001],\n",
       "       [1.20188159e-024, 1.00000000e+000, 7.89785713e-042],\n",
       "       [1.03550170e-001, 4.21284057e-102, 8.96449830e-001],\n",
       "       [4.44619970e-026, 1.00000000e+000, 3.22271551e-045],\n",
       "       [4.28165883e-007, 5.45777176e-151, 9.99999572e-001],\n",
       "       [2.94498531e-002, 2.43042651e-193, 9.70550147e-001],\n",
       "       [2.31803957e-010, 1.64566872e-141, 1.00000000e+000],\n",
       "       [1.73717262e-006, 4.72097291e-163, 9.99998263e-001],\n",
       "       [7.43518343e-008, 9.41312882e-172, 9.99999926e-001],\n",
       "       [2.61817625e-022, 1.00000000e+000, 7.58335855e-042],\n",
       "       [3.82063051e-023, 1.00000000e+000, 4.43778721e-041],\n",
       "       [9.37083374e-037, 1.00000000e+000, 2.05737749e-057],\n",
       "       [2.54953878e-052, 1.00000000e+000, 3.76452573e-076],\n",
       "       [9.99998992e-001, 2.72576719e-078, 1.00779647e-006],\n",
       "       [1.17215369e-028, 1.00000000e+000, 2.28651026e-046],\n",
       "       [3.30253028e-026, 1.00000000e+000, 9.08563699e-044],\n",
       "       [1.90189967e-005, 2.19523914e-120, 9.99980981e-001],\n",
       "       [9.99960010e-001, 8.18449400e-079, 3.99902252e-005],\n",
       "       [3.53030320e-033, 1.00000000e+000, 1.63231511e-054],\n",
       "       [1.03857176e-035, 1.00000000e+000, 2.48105104e-056],\n",
       "       [2.02924461e-048, 1.00000000e+000, 1.61045808e-068],\n",
       "       [7.71807440e-005, 4.83020404e-116, 9.99922819e-001],\n",
       "       [9.99557633e-001, 1.95054946e-074, 4.42367317e-004],\n",
       "       [9.99878449e-001, 3.72570007e-092, 1.21551372e-004],\n",
       "       [1.09175724e-041, 1.00000000e+000, 4.83576282e-065],\n",
       "       [4.09757841e-038, 1.00000000e+000, 1.00298976e-060],\n",
       "       [9.99995928e-001, 1.25995225e-046, 4.07187857e-006],\n",
       "       [3.05446161e-001, 3.71781992e-109, 6.94553839e-001],\n",
       "       [1.67445989e-002, 4.94097854e-131, 9.83255401e-001],\n",
       "       [9.99995469e-001, 6.32529526e-079, 4.53067985e-006],\n",
       "       [4.60385788e-009, 1.34879868e-188, 9.99999995e-001]])"
      ]
     },
     "execution_count": 16,
     "metadata": {},
     "output_type": "execute_result"
    }
   ],
   "source": [
    "gm.predict_proba(x_te)"
   ]
  },
  {
   "cell_type": "code",
   "execution_count": null,
   "id": "international-michigan",
   "metadata": {},
   "outputs": [],
   "source": []
  }
 ],
 "metadata": {
  "kernelspec": {
   "display_name": "A3",
   "language": "python",
   "name": "a3"
  },
  "language_info": {
   "codemirror_mode": {
    "name": "ipython",
    "version": 3
   },
   "file_extension": ".py",
   "mimetype": "text/x-python",
   "name": "python",
   "nbconvert_exporter": "python",
   "pygments_lexer": "ipython3",
   "version": "3.7.8"
  }
 },
 "nbformat": 4,
 "nbformat_minor": 5
}
