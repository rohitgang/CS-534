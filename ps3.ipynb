{
 "cells": [
  {
   "cell_type": "markdown",
   "id": "comparable-binary",
   "metadata": {},
   "source": [
    "# PS3\n",
    "## Name : Rohit Gangurde\n",
    "## Collaborators : NA"
   ]
  },
  {
   "cell_type": "code",
   "execution_count": 1,
   "id": "stunning-wallpaper",
   "metadata": {},
   "outputs": [],
   "source": [
    "from sklearn.datasets import load_iris\n",
    "from sklearn.model_selection import KFold, StratifiedKFold, train_test_split\n",
    "import pandas as pd\n",
    "from sklearn.svm import SVC\n",
    "from sklearn.metrics import f1_score\n",
    "import numpy as np"
   ]
  },
  {
   "cell_type": "code",
   "execution_count": 2,
   "id": "acute-opinion",
   "metadata": {},
   "outputs": [],
   "source": [
    "df = load_iris(as_frame=True)['frame']\n",
    "X = df.drop('target', axis=1)\n",
    "Y = df['target']"
   ]
  },
  {
   "cell_type": "markdown",
   "id": "vulnerable-mason",
   "metadata": {},
   "source": [
    "# 1."
   ]
  },
  {
   "cell_type": "code",
   "execution_count": 3,
   "id": "massive-peninsula",
   "metadata": {},
   "outputs": [],
   "source": [
    "kf = StratifiedKFold(n_splits=3)\n",
    "gamma = [0.0001, 0.001, 0.01, 0.05, 0.1, 0.5, 0.1, 1, 10, 100, 1000]\n",
    "degrees = [1, 2, 3, 4, 5, 6, 7, 8, 9, 10]\n",
    "standard_sc_gamma = -1\n",
    "standard_sc_deg = -1\n",
    "std_gamma = None\n",
    "std_degree = None\n",
    "gamma_lst, degree_lst = list(), list()\n",
    "\n",
    "for train_idx, test_idx in kf.split(X, Y):\n",
    "    x_train, x_test = X.iloc[train_idx], X.iloc[test_idx]\n",
    "    y_train, y_test = Y.iloc[train_idx], Y.iloc[test_idx]\n",
    "    \n",
    "    for tr_id, te_id in kf.split(x_train, y_train):\n",
    "        x_tr, x_te = x_train.iloc[tr_id], x_train.iloc[te_id]\n",
    "        y_tr, y_te = y_train.iloc[tr_id], y_train.iloc[te_id]\n",
    "        # estimating gamma parameter for rbf kernel\n",
    "        for g in gamma:\n",
    "            svm = SVC(kernel='rbf', gamma=g)\n",
    "            svm.fit(x_tr, y_tr)\n",
    "            yhat = svm.predict(x_te)\n",
    "            f1 = f1_score(y_te, yhat, average='weighted')\n",
    "            if f1 > standard_sc_gamma :\n",
    "                standard_sc_gamma = f1\n",
    "                std_gamma = g\n",
    "        gamma_lst.append(std_gamma)        \n",
    "        # estimating degree parameter for polynomial features\n",
    "        for d in degrees:\n",
    "            svm = SVC(kernel='poly', degree=d)\n",
    "            svm.fit(x_tr, y_tr)\n",
    "            yhat = svm.predict(x_te)\n",
    "            f1 = f1_score(y_te, yhat, average='weighted')\n",
    "            if f1 > standard_sc_deg :\n",
    "                standard_sc_deg = f1\n",
    "                std_degree = d\n",
    "        degree_lst.append(std_degree)"
   ]
  },
  {
   "cell_type": "code",
   "execution_count": 4,
   "id": "premium-controversy",
   "metadata": {},
   "outputs": [
    {
     "data": {
      "text/plain": [
       "[0.5, 0.1, 0.05, 0.05, 0.05, 0.05, 0.05, 0.05, 0.05]"
      ]
     },
     "execution_count": 4,
     "metadata": {},
     "output_type": "execute_result"
    }
   ],
   "source": [
    "gamma_lst"
   ]
  },
  {
   "cell_type": "code",
   "execution_count": 5,
   "id": "activated-diary",
   "metadata": {},
   "outputs": [
    {
     "data": {
      "text/plain": [
       "[2, 2, 1, 1, 1, 1, 1, 1, 1]"
      ]
     },
     "execution_count": 5,
     "metadata": {},
     "output_type": "execute_result"
    }
   ],
   "source": [
    "degree_lst"
   ]
  },
  {
   "cell_type": "code",
   "execution_count": 6,
   "id": "ideal-details",
   "metadata": {},
   "outputs": [
    {
     "name": "stdout",
     "output_type": "stream",
     "text": [
      "Best gamma value for rbf kernel : 0.11\n",
      "Best degree value for polynomial features : 1.22\n",
      "Best gamma and degree values for polynomial kernel : 0.11, 1.22\n"
     ]
    }
   ],
   "source": [
    "print('Best gamma value for rbf kernel : {0:.2f}'.format(np.mean(gamma_lst)))\n",
    "print('Best degree value for polynomial features : {0:.2f}'.format(np.mean(degree_lst)))\n",
    "print('Best gamma and degree values for polynomial kernel : {0:.2f}, {1:.2f}'.format(np.mean(gamma_lst), np.mean(degree_lst)))"
   ]
  },
  {
   "cell_type": "markdown",
   "id": "affected-douglas",
   "metadata": {},
   "source": [
    "****\n",
    "\n",
    "# 2."
   ]
  },
  {
   "cell_type": "code",
   "execution_count": 8,
   "id": "oriental-label",
   "metadata": {},
   "outputs": [],
   "source": [
    "Y = [1 if y == 1 else 0 for y in Y]"
   ]
  },
  {
   "cell_type": "code",
   "execution_count": 9,
   "id": "nutritional-canal",
   "metadata": {},
   "outputs": [],
   "source": [
    "svm = SVC()\n",
    "xtrain, xtest, ytrain, ytest = train_test_split(X, Y, test_size=0.33)"
   ]
  },
  {
   "cell_type": "code",
   "execution_count": 10,
   "id": "explicit-ecology",
   "metadata": {},
   "outputs": [
    {
     "data": {
      "text/plain": [
       "SVC()"
      ]
     },
     "execution_count": 10,
     "metadata": {},
     "output_type": "execute_result"
    }
   ],
   "source": [
    "svm.fit(xtrain, ytrain)"
   ]
  },
  {
   "cell_type": "markdown",
   "id": "julian-desktop",
   "metadata": {},
   "source": [
    "* Equation of the decision boundary line as a line :\n",
    "\n",
    "$$ g(x) = w^{T}x + b = 0 $$\n",
    "\n",
    "* Suppose our two classes are -1 and 1,\n",
    "$$ w^{T}x_{i} + b \\geq 1, \\quad \\forall y_{i} = 1 $$\n",
    "$$ w^{T}x_{i} + b \\leq -1, \\quad \\forall y_{i} = -1 $$\n",
    "\n",
    "* Applying constraints and compressing the two equations into one, we get the primal problem,\n",
    "\n",
    "$ \\quad\\quad \\textrm{minimize} \\quad \\frac{1}{2} w^{T}w $\n",
    "\n",
    "$ \\quad\\quad \\textrm{subject to }\\quad y_{i}(w^{T}x_{i} + b) - 1 \\geq 0 \\quad \\forall i $\n",
    "\n",
    "* To solve this, we use larange multipliers and compute partial derivatives with respect to weights and bias. This leads us to,\n",
    "$$ w = \\sum_{i=1}^{N} \\alpha_{i} y_{i} x_{i} \\quad (1)$$\n",
    "$$ \\sum_{i=1}^{N} \\alpha_{i} y_{i} = 0 \\quad (2)$$\n",
    "\n",
    "* The $\\alpha_{i}$ indicate the support vectors. If a particular point $x_{i}$ is a support vector, its corresponding larange multiplier $\\alpha_{i}$ will be greater than 0. If it is not a support vector, then it will be equal to 0.\n",
    "\n",
    "The product $\\alpha_{i}y_{i}$ is available to us thanks to sklearn's `svm` library.\n",
    "It can be accessed by `svm.support_vectors_`. To get the indices of support vectors, `svm.support_` can be used. \n",
    "Our support vectors are,"
   ]
  },
  {
   "cell_type": "code",
   "execution_count": 11,
   "id": "racial-planner",
   "metadata": {
    "jupyter": {
     "source_hidden": true
    }
   },
   "outputs": [
    {
     "data": {
      "text/html": [
       "<div>\n",
       "<style scoped>\n",
       "    .dataframe tbody tr th:only-of-type {\n",
       "        vertical-align: middle;\n",
       "    }\n",
       "\n",
       "    .dataframe tbody tr th {\n",
       "        vertical-align: top;\n",
       "    }\n",
       "\n",
       "    .dataframe thead th {\n",
       "        text-align: right;\n",
       "    }\n",
       "</style>\n",
       "<table border=\"1\" class=\"dataframe\">\n",
       "  <thead>\n",
       "    <tr style=\"text-align: right;\">\n",
       "      <th></th>\n",
       "      <th>sepal length (cm)</th>\n",
       "      <th>sepal width (cm)</th>\n",
       "      <th>petal length (cm)</th>\n",
       "      <th>petal width (cm)</th>\n",
       "    </tr>\n",
       "  </thead>\n",
       "  <tbody>\n",
       "    <tr>\n",
       "      <th>0</th>\n",
       "      <td>5.1</td>\n",
       "      <td>3.5</td>\n",
       "      <td>1.4</td>\n",
       "      <td>0.2</td>\n",
       "    </tr>\n",
       "    <tr>\n",
       "      <th>6</th>\n",
       "      <td>4.6</td>\n",
       "      <td>3.4</td>\n",
       "      <td>1.4</td>\n",
       "      <td>0.3</td>\n",
       "    </tr>\n",
       "    <tr>\n",
       "      <th>7</th>\n",
       "      <td>5.0</td>\n",
       "      <td>3.4</td>\n",
       "      <td>1.5</td>\n",
       "      <td>0.2</td>\n",
       "    </tr>\n",
       "    <tr>\n",
       "      <th>11</th>\n",
       "      <td>4.8</td>\n",
       "      <td>3.4</td>\n",
       "      <td>1.6</td>\n",
       "      <td>0.2</td>\n",
       "    </tr>\n",
       "    <tr>\n",
       "      <th>21</th>\n",
       "      <td>5.1</td>\n",
       "      <td>3.7</td>\n",
       "      <td>1.5</td>\n",
       "      <td>0.4</td>\n",
       "    </tr>\n",
       "    <tr>\n",
       "      <th>31</th>\n",
       "      <td>5.4</td>\n",
       "      <td>3.4</td>\n",
       "      <td>1.5</td>\n",
       "      <td>0.4</td>\n",
       "    </tr>\n",
       "    <tr>\n",
       "      <th>36</th>\n",
       "      <td>5.5</td>\n",
       "      <td>3.5</td>\n",
       "      <td>1.3</td>\n",
       "      <td>0.2</td>\n",
       "    </tr>\n",
       "    <tr>\n",
       "      <th>43</th>\n",
       "      <td>5.0</td>\n",
       "      <td>3.5</td>\n",
       "      <td>1.6</td>\n",
       "      <td>0.6</td>\n",
       "    </tr>\n",
       "    <tr>\n",
       "      <th>49</th>\n",
       "      <td>5.0</td>\n",
       "      <td>3.3</td>\n",
       "      <td>1.4</td>\n",
       "      <td>0.2</td>\n",
       "    </tr>\n",
       "    <tr>\n",
       "      <th>52</th>\n",
       "      <td>6.9</td>\n",
       "      <td>3.1</td>\n",
       "      <td>4.9</td>\n",
       "      <td>1.5</td>\n",
       "    </tr>\n",
       "    <tr>\n",
       "      <th>54</th>\n",
       "      <td>6.5</td>\n",
       "      <td>2.8</td>\n",
       "      <td>4.6</td>\n",
       "      <td>1.5</td>\n",
       "    </tr>\n",
       "    <tr>\n",
       "      <th>56</th>\n",
       "      <td>6.3</td>\n",
       "      <td>3.3</td>\n",
       "      <td>4.7</td>\n",
       "      <td>1.6</td>\n",
       "    </tr>\n",
       "    <tr>\n",
       "      <th>57</th>\n",
       "      <td>4.9</td>\n",
       "      <td>2.4</td>\n",
       "      <td>3.3</td>\n",
       "      <td>1.0</td>\n",
       "    </tr>\n",
       "    <tr>\n",
       "      <th>64</th>\n",
       "      <td>5.6</td>\n",
       "      <td>2.9</td>\n",
       "      <td>3.6</td>\n",
       "      <td>1.3</td>\n",
       "    </tr>\n",
       "    <tr>\n",
       "      <th>66</th>\n",
       "      <td>5.6</td>\n",
       "      <td>3.0</td>\n",
       "      <td>4.5</td>\n",
       "      <td>1.5</td>\n",
       "    </tr>\n",
       "    <tr>\n",
       "      <th>67</th>\n",
       "      <td>5.8</td>\n",
       "      <td>2.7</td>\n",
       "      <td>4.1</td>\n",
       "      <td>1.0</td>\n",
       "    </tr>\n",
       "    <tr>\n",
       "      <th>73</th>\n",
       "      <td>6.1</td>\n",
       "      <td>2.8</td>\n",
       "      <td>4.7</td>\n",
       "      <td>1.2</td>\n",
       "    </tr>\n",
       "    <tr>\n",
       "      <th>75</th>\n",
       "      <td>6.6</td>\n",
       "      <td>3.0</td>\n",
       "      <td>4.4</td>\n",
       "      <td>1.4</td>\n",
       "    </tr>\n",
       "    <tr>\n",
       "      <th>76</th>\n",
       "      <td>6.8</td>\n",
       "      <td>2.8</td>\n",
       "      <td>4.8</td>\n",
       "      <td>1.4</td>\n",
       "    </tr>\n",
       "    <tr>\n",
       "      <th>77</th>\n",
       "      <td>6.7</td>\n",
       "      <td>3.0</td>\n",
       "      <td>5.0</td>\n",
       "      <td>1.7</td>\n",
       "    </tr>\n",
       "    <tr>\n",
       "      <th>80</th>\n",
       "      <td>5.5</td>\n",
       "      <td>2.4</td>\n",
       "      <td>3.8</td>\n",
       "      <td>1.1</td>\n",
       "    </tr>\n",
       "    <tr>\n",
       "      <th>92</th>\n",
       "      <td>5.8</td>\n",
       "      <td>2.6</td>\n",
       "      <td>4.0</td>\n",
       "      <td>1.2</td>\n",
       "    </tr>\n",
       "    <tr>\n",
       "      <th>96</th>\n",
       "      <td>5.7</td>\n",
       "      <td>2.9</td>\n",
       "      <td>4.2</td>\n",
       "      <td>1.3</td>\n",
       "    </tr>\n",
       "    <tr>\n",
       "      <th>98</th>\n",
       "      <td>5.1</td>\n",
       "      <td>2.5</td>\n",
       "      <td>3.0</td>\n",
       "      <td>1.1</td>\n",
       "    </tr>\n",
       "    <tr>\n",
       "      <th>1</th>\n",
       "      <td>4.9</td>\n",
       "      <td>3.0</td>\n",
       "      <td>1.4</td>\n",
       "      <td>0.2</td>\n",
       "    </tr>\n",
       "    <tr>\n",
       "      <th>2</th>\n",
       "      <td>4.7</td>\n",
       "      <td>3.2</td>\n",
       "      <td>1.3</td>\n",
       "      <td>0.2</td>\n",
       "    </tr>\n",
       "    <tr>\n",
       "      <th>3</th>\n",
       "      <td>4.6</td>\n",
       "      <td>3.1</td>\n",
       "      <td>1.5</td>\n",
       "      <td>0.2</td>\n",
       "    </tr>\n",
       "    <tr>\n",
       "      <th>5</th>\n",
       "      <td>5.4</td>\n",
       "      <td>3.9</td>\n",
       "      <td>1.7</td>\n",
       "      <td>0.4</td>\n",
       "    </tr>\n",
       "    <tr>\n",
       "      <th>10</th>\n",
       "      <td>5.4</td>\n",
       "      <td>3.7</td>\n",
       "      <td>1.5</td>\n",
       "      <td>0.2</td>\n",
       "    </tr>\n",
       "    <tr>\n",
       "      <th>14</th>\n",
       "      <td>5.8</td>\n",
       "      <td>4.0</td>\n",
       "      <td>1.2</td>\n",
       "      <td>0.2</td>\n",
       "    </tr>\n",
       "    <tr>\n",
       "      <th>18</th>\n",
       "      <td>5.7</td>\n",
       "      <td>3.8</td>\n",
       "      <td>1.7</td>\n",
       "      <td>0.3</td>\n",
       "    </tr>\n",
       "    <tr>\n",
       "      <th>20</th>\n",
       "      <td>5.4</td>\n",
       "      <td>3.4</td>\n",
       "      <td>1.7</td>\n",
       "      <td>0.2</td>\n",
       "    </tr>\n",
       "    <tr>\n",
       "      <th>28</th>\n",
       "      <td>5.2</td>\n",
       "      <td>3.4</td>\n",
       "      <td>1.4</td>\n",
       "      <td>0.2</td>\n",
       "    </tr>\n",
       "    <tr>\n",
       "      <th>32</th>\n",
       "      <td>5.2</td>\n",
       "      <td>4.1</td>\n",
       "      <td>1.5</td>\n",
       "      <td>0.1</td>\n",
       "    </tr>\n",
       "    <tr>\n",
       "      <th>34</th>\n",
       "      <td>4.9</td>\n",
       "      <td>3.1</td>\n",
       "      <td>1.5</td>\n",
       "      <td>0.2</td>\n",
       "    </tr>\n",
       "    <tr>\n",
       "      <th>47</th>\n",
       "      <td>4.6</td>\n",
       "      <td>3.2</td>\n",
       "      <td>1.4</td>\n",
       "      <td>0.2</td>\n",
       "    </tr>\n",
       "    <tr>\n",
       "      <th>50</th>\n",
       "      <td>7.0</td>\n",
       "      <td>3.2</td>\n",
       "      <td>4.7</td>\n",
       "      <td>1.4</td>\n",
       "    </tr>\n",
       "    <tr>\n",
       "      <th>58</th>\n",
       "      <td>6.6</td>\n",
       "      <td>2.9</td>\n",
       "      <td>4.6</td>\n",
       "      <td>1.3</td>\n",
       "    </tr>\n",
       "    <tr>\n",
       "      <th>60</th>\n",
       "      <td>5.0</td>\n",
       "      <td>2.0</td>\n",
       "      <td>3.5</td>\n",
       "      <td>1.0</td>\n",
       "    </tr>\n",
       "    <tr>\n",
       "      <th>62</th>\n",
       "      <td>6.0</td>\n",
       "      <td>2.2</td>\n",
       "      <td>4.0</td>\n",
       "      <td>1.0</td>\n",
       "    </tr>\n",
       "    <tr>\n",
       "      <th>65</th>\n",
       "      <td>6.7</td>\n",
       "      <td>3.1</td>\n",
       "      <td>4.4</td>\n",
       "      <td>1.4</td>\n",
       "    </tr>\n",
       "    <tr>\n",
       "      <th>68</th>\n",
       "      <td>6.2</td>\n",
       "      <td>2.2</td>\n",
       "      <td>4.5</td>\n",
       "      <td>1.5</td>\n",
       "    </tr>\n",
       "    <tr>\n",
       "      <th>69</th>\n",
       "      <td>5.6</td>\n",
       "      <td>2.5</td>\n",
       "      <td>3.9</td>\n",
       "      <td>1.1</td>\n",
       "    </tr>\n",
       "    <tr>\n",
       "      <th>72</th>\n",
       "      <td>6.3</td>\n",
       "      <td>2.5</td>\n",
       "      <td>4.9</td>\n",
       "      <td>1.5</td>\n",
       "    </tr>\n",
       "    <tr>\n",
       "      <th>74</th>\n",
       "      <td>6.4</td>\n",
       "      <td>2.9</td>\n",
       "      <td>4.3</td>\n",
       "      <td>1.3</td>\n",
       "    </tr>\n",
       "    <tr>\n",
       "      <th>85</th>\n",
       "      <td>6.0</td>\n",
       "      <td>3.4</td>\n",
       "      <td>4.5</td>\n",
       "      <td>1.6</td>\n",
       "    </tr>\n",
       "    <tr>\n",
       "      <th>91</th>\n",
       "      <td>6.1</td>\n",
       "      <td>3.0</td>\n",
       "      <td>4.6</td>\n",
       "      <td>1.4</td>\n",
       "    </tr>\n",
       "    <tr>\n",
       "      <th>95</th>\n",
       "      <td>5.7</td>\n",
       "      <td>3.0</td>\n",
       "      <td>4.2</td>\n",
       "      <td>1.2</td>\n",
       "    </tr>\n",
       "    <tr>\n",
       "      <th>99</th>\n",
       "      <td>5.7</td>\n",
       "      <td>2.8</td>\n",
       "      <td>4.1</td>\n",
       "      <td>1.3</td>\n",
       "    </tr>\n",
       "  </tbody>\n",
       "</table>\n",
       "</div>"
      ],
      "text/plain": [
       "    sepal length (cm)  sepal width (cm)  petal length (cm)  petal width (cm)\n",
       "0                 5.1               3.5                1.4               0.2\n",
       "6                 4.6               3.4                1.4               0.3\n",
       "7                 5.0               3.4                1.5               0.2\n",
       "11                4.8               3.4                1.6               0.2\n",
       "21                5.1               3.7                1.5               0.4\n",
       "31                5.4               3.4                1.5               0.4\n",
       "36                5.5               3.5                1.3               0.2\n",
       "43                5.0               3.5                1.6               0.6\n",
       "49                5.0               3.3                1.4               0.2\n",
       "52                6.9               3.1                4.9               1.5\n",
       "54                6.5               2.8                4.6               1.5\n",
       "56                6.3               3.3                4.7               1.6\n",
       "57                4.9               2.4                3.3               1.0\n",
       "64                5.6               2.9                3.6               1.3\n",
       "66                5.6               3.0                4.5               1.5\n",
       "67                5.8               2.7                4.1               1.0\n",
       "73                6.1               2.8                4.7               1.2\n",
       "75                6.6               3.0                4.4               1.4\n",
       "76                6.8               2.8                4.8               1.4\n",
       "77                6.7               3.0                5.0               1.7\n",
       "80                5.5               2.4                3.8               1.1\n",
       "92                5.8               2.6                4.0               1.2\n",
       "96                5.7               2.9                4.2               1.3\n",
       "98                5.1               2.5                3.0               1.1\n",
       "1                 4.9               3.0                1.4               0.2\n",
       "2                 4.7               3.2                1.3               0.2\n",
       "3                 4.6               3.1                1.5               0.2\n",
       "5                 5.4               3.9                1.7               0.4\n",
       "10                5.4               3.7                1.5               0.2\n",
       "14                5.8               4.0                1.2               0.2\n",
       "18                5.7               3.8                1.7               0.3\n",
       "20                5.4               3.4                1.7               0.2\n",
       "28                5.2               3.4                1.4               0.2\n",
       "32                5.2               4.1                1.5               0.1\n",
       "34                4.9               3.1                1.5               0.2\n",
       "47                4.6               3.2                1.4               0.2\n",
       "50                7.0               3.2                4.7               1.4\n",
       "58                6.6               2.9                4.6               1.3\n",
       "60                5.0               2.0                3.5               1.0\n",
       "62                6.0               2.2                4.0               1.0\n",
       "65                6.7               3.1                4.4               1.4\n",
       "68                6.2               2.2                4.5               1.5\n",
       "69                5.6               2.5                3.9               1.1\n",
       "72                6.3               2.5                4.9               1.5\n",
       "74                6.4               2.9                4.3               1.3\n",
       "85                6.0               3.4                4.5               1.6\n",
       "91                6.1               3.0                4.6               1.4\n",
       "95                5.7               3.0                4.2               1.2\n",
       "99                5.7               2.8                4.1               1.3"
      ]
     },
     "execution_count": 11,
     "metadata": {},
     "output_type": "execute_result"
    }
   ],
   "source": [
    "X.iloc[svm.support_]"
   ]
  },
  {
   "cell_type": "code",
   "execution_count": 12,
   "id": "sapphire-musical",
   "metadata": {
    "jupyter": {
     "source_hidden": true
    }
   },
   "outputs": [
    {
     "data": {
      "text/markdown": [
       "The weights, calculated using eq. 1 are,"
      ],
      "text/plain": [
       "<IPython.core.display.Markdown object>"
      ]
     },
     "metadata": {},
     "output_type": "display_data"
    },
    {
     "name": "stdout",
     "output_type": "stream",
     "text": [
      "[[-0.45229034  0.58111235 -6.05390407 -3.86119761]] \n",
      "\n"
     ]
    },
    {
     "data": {
      "text/markdown": [
       "The bias term is provided to us by `svm` library. It is accessed using `svm.intercept_`. It is"
      ],
      "text/plain": [
       "<IPython.core.display.Markdown object>"
      ]
     },
     "metadata": {},
     "output_type": "display_data"
    },
    {
     "name": "stdout",
     "output_type": "stream",
     "text": [
      "[-1.82676674]\n"
     ]
    }
   ],
   "source": [
    "from IPython.display import display, Markdown\n",
    "\n",
    "# Calculating weight using equation (1)\n",
    "w = np.dot(svm.dual_coef_, X.iloc[svm.support_].values)\n",
    "b = svm.intercept_\n",
    "display(Markdown(\"The weights, calculated using eq. 1 are,\"))\n",
    "print(w,'\\n')\n",
    "display(Markdown(\"The bias term is provided to us by `svm` library. It is accessed using `svm.intercept_`. It is\"))\n",
    "print(b)"
   ]
  },
  {
   "cell_type": "code",
   "execution_count": 13,
   "id": "alternate-people",
   "metadata": {
    "jupyter": {
     "source_hidden": true
    }
   },
   "outputs": [
    {
     "data": {
      "text/markdown": [
       "\n",
       "The constraint in eq. 2 needs to be satisfied. Eq. 2 is basically the sum of `svm.dual_coef`.\n",
       "The sum is\n"
      ],
      "text/plain": [
       "<IPython.core.display.Markdown object>"
      ]
     },
     "metadata": {},
     "output_type": "display_data"
    },
    {
     "name": "stdout",
     "output_type": "stream",
     "text": [
      "0.00\n"
     ]
    }
   ],
   "source": [
    "display((Markdown(\"\"\"\n",
    "The constraint in eq. 2 needs to be satisfied. Eq. 2 is basically the sum of `svm.dual_coef`.\n",
    "The sum is\n",
    "\"\"\")))\n",
    "print('{0:.2f}'.format(np.sum(svm.dual_coef_)))"
   ]
  },
  {
   "cell_type": "markdown",
   "id": "employed-announcement",
   "metadata": {},
   "source": [
    "### Let's get the data we want, 5 points of Iris-versicolor, 3 points for Iris-setosa, 2 points for Iris-verginica"
   ]
  },
  {
   "cell_type": "code",
   "execution_count": 16,
   "id": "celtic-cameroon",
   "metadata": {},
   "outputs": [],
   "source": [
    "versi = df[df['target'] == 1].iloc[:, :-1][0:5].values\n",
    "virgi = df[df['target'] == 2].iloc[:, :-1][0:3].values\n",
    "seto = df[df['target'] == 0].iloc[:, :-1][0:2].values\n",
    "species = {'Versicolor' : versi,\n",
    "           'Virginica' : virgi,\n",
    "           'Setosa' : seto}"
   ]
  },
  {
   "cell_type": "code",
   "execution_count": 17,
   "id": "suited-tonight",
   "metadata": {},
   "outputs": [
    {
     "name": "stdout",
     "output_type": "stream",
     "text": [
      "Current species : Versicolor\n",
      "====================\n",
      "Row 0 : [7.  3.2 4.7 1.4]\n",
      "\n",
      "-> w1(7.0) + w2(3.2) + w3(4.7) + w4(1.4) + b\n",
      "\n",
      "-> [-0.45(7.0)] + [0.58(3.2)] + [-6.05(4.7)] + [-3.86(1.4)] + [-1.82676674] \n",
      "\n",
      "\n",
      "Row 1 : [6.4 3.2 4.5 1.5]\n",
      "\n",
      "-> w1(6.4) + w2(3.2) + w3(4.5) + w4(1.5) + b\n",
      "\n",
      "-> [-0.45(6.4)] + [0.58(3.2)] + [-6.05(4.5)] + [-3.86(1.5)] + [-1.82676674] \n",
      "\n",
      "\n",
      "Row 2 : [6.9 3.1 4.9 1.5]\n",
      "\n",
      "-> w1(6.9) + w2(3.1) + w3(4.9) + w4(1.5) + b\n",
      "\n",
      "-> [-0.45(6.9)] + [0.58(3.1)] + [-6.05(4.9)] + [-3.86(1.5)] + [-1.82676674] \n",
      "\n",
      "\n",
      "Row 3 : [5.5 2.3 4.  1.3]\n",
      "\n",
      "-> w1(5.5) + w2(2.3) + w3(4.0) + w4(1.3) + b\n",
      "\n",
      "-> [-0.45(5.5)] + [0.58(2.3)] + [-6.05(4.0)] + [-3.86(1.3)] + [-1.82676674] \n",
      "\n",
      "\n",
      "Row 4 : [6.5 2.8 4.6 1.5]\n",
      "\n",
      "-> w1(6.5) + w2(2.8) + w3(4.6) + w4(1.5) + b\n",
      "\n",
      "-> [-0.45(6.5)] + [0.58(2.8)] + [-6.05(4.6)] + [-3.86(1.5)] + [-1.82676674] \n",
      "\n",
      "\n",
      "Current species : Virginica\n",
      "====================\n",
      "Row 0 : [6.3 3.3 6.  2.5]\n",
      "\n",
      "-> w1(6.3) + w2(3.3) + w3(6.0) + w4(2.5) + b\n",
      "\n",
      "-> [-0.45(6.3)] + [0.58(3.3)] + [-6.05(6.0)] + [-3.86(2.5)] + [-1.82676674] \n",
      "\n",
      "\n",
      "Row 1 : [5.8 2.7 5.1 1.9]\n",
      "\n",
      "-> w1(5.8) + w2(2.7) + w3(5.1) + w4(1.9) + b\n",
      "\n",
      "-> [-0.45(5.8)] + [0.58(2.7)] + [-6.05(5.1)] + [-3.86(1.9)] + [-1.82676674] \n",
      "\n",
      "\n",
      "Row 2 : [7.1 3.  5.9 2.1]\n",
      "\n",
      "-> w1(7.1) + w2(3.0) + w3(5.9) + w4(2.1) + b\n",
      "\n",
      "-> [-0.45(7.1)] + [0.58(3.0)] + [-6.05(5.9)] + [-3.86(2.1)] + [-1.82676674] \n",
      "\n",
      "\n",
      "Current species : Setosa\n",
      "====================\n",
      "Row 0 : [5.1 3.5 1.4 0.2]\n",
      "\n",
      "-> w1(5.1) + w2(3.5) + w3(1.4) + w4(0.2) + b\n",
      "\n",
      "-> [-0.45(5.1)] + [0.58(3.5)] + [-6.05(1.4)] + [-3.86(0.2)] + [-1.82676674] \n",
      "\n",
      "\n",
      "Row 1 : [4.9 3.  1.4 0.2]\n",
      "\n",
      "-> w1(4.9) + w2(3.0) + w3(1.4) + w4(0.2) + b\n",
      "\n",
      "-> [-0.45(4.9)] + [0.58(3.0)] + [-6.05(1.4)] + [-3.86(0.2)] + [-1.82676674] \n",
      "\n",
      "\n"
     ]
    }
   ],
   "source": [
    "# For each row, we mulitply then by the weight coefficient and the bias term\n",
    "for k, v in species.items():\n",
    "    print(\"Current species : {}\\n====================\".format(k))\n",
    "    for i in range(v.shape[0]):\n",
    "        print('Row {0} : {1}\\n'.format(i, v[i]))\n",
    "        print('-> w1({0}) + w2({1}) + w3({2}) + w4({3}) + b'.format(v[i][0], v[i][1], \n",
    "                                                                    v[i][2], v[i][3]))\n",
    "        print('')\n",
    "        print('-> [{0:.2f}({1})] + [{2:.2f}({3})] + [{4:.2f}({5})] + [{6:.2f}({7})] + {8} \\n'.format(w[0][0], v[i][0],\n",
    "                                                                              w[0][1], v[i][1],\n",
    "                                                                              w[0][2], v[i][2],\n",
    "                                                                              w[0][3], v[i][3],\n",
    "                                                                              b))\n",
    "        print('')"
   ]
  }
 ],
 "metadata": {
  "kernelspec": {
   "display_name": "A3",
   "language": "python",
   "name": "a3"
  },
  "language_info": {
   "codemirror_mode": {
    "name": "ipython",
    "version": 3
   },
   "file_extension": ".py",
   "mimetype": "text/x-python",
   "name": "python",
   "nbconvert_exporter": "python",
   "pygments_lexer": "ipython3",
   "version": "3.7.8"
  }
 },
 "nbformat": 4,
 "nbformat_minor": 5
}
