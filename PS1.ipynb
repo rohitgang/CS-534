{
 "cells": [
  {
   "cell_type": "markdown",
   "metadata": {
    "id": "HcZ0EH0nes3Q"
   },
   "source": [
    "# PS1\n",
    "### Collaborators : N/A"
   ]
  },
  {
   "cell_type": "markdown",
   "metadata": {
    "id": "nx4iUJPCexBU"
   },
   "source": [
    "*****\n",
    "## Question 1"
   ]
  },
  {
   "cell_type": "code",
   "execution_count": 1,
   "metadata": {
    "colab": {
     "base_uri": "https://localhost:8080/",
     "height": 206
    },
    "id": "psHFSb9lekn0",
    "outputId": "eaf9d2c8-321f-469d-9d28-cd3fe7f988f8"
   },
   "outputs": [
    {
     "data": {
      "text/html": [
       "<div>\n",
       "<style scoped>\n",
       "    .dataframe tbody tr th:only-of-type {\n",
       "        vertical-align: middle;\n",
       "    }\n",
       "\n",
       "    .dataframe tbody tr th {\n",
       "        vertical-align: top;\n",
       "    }\n",
       "\n",
       "    .dataframe thead th {\n",
       "        text-align: right;\n",
       "    }\n",
       "</style>\n",
       "<table border=\"1\" class=\"dataframe\">\n",
       "  <thead>\n",
       "    <tr style=\"text-align: right;\">\n",
       "      <th></th>\n",
       "      <th>sepal_length</th>\n",
       "      <th>sepal_width</th>\n",
       "      <th>petal_length</th>\n",
       "      <th>petal_width</th>\n",
       "      <th>class</th>\n",
       "    </tr>\n",
       "  </thead>\n",
       "  <tbody>\n",
       "    <tr>\n",
       "      <th>0</th>\n",
       "      <td>5.1</td>\n",
       "      <td>3.5</td>\n",
       "      <td>1.4</td>\n",
       "      <td>0.2</td>\n",
       "      <td>Iris-setosa</td>\n",
       "    </tr>\n",
       "    <tr>\n",
       "      <th>1</th>\n",
       "      <td>4.9</td>\n",
       "      <td>3.0</td>\n",
       "      <td>1.4</td>\n",
       "      <td>0.2</td>\n",
       "      <td>Iris-setosa</td>\n",
       "    </tr>\n",
       "    <tr>\n",
       "      <th>2</th>\n",
       "      <td>4.7</td>\n",
       "      <td>3.2</td>\n",
       "      <td>1.3</td>\n",
       "      <td>0.2</td>\n",
       "      <td>Iris-setosa</td>\n",
       "    </tr>\n",
       "    <tr>\n",
       "      <th>3</th>\n",
       "      <td>4.6</td>\n",
       "      <td>3.1</td>\n",
       "      <td>1.5</td>\n",
       "      <td>0.2</td>\n",
       "      <td>Iris-setosa</td>\n",
       "    </tr>\n",
       "    <tr>\n",
       "      <th>4</th>\n",
       "      <td>5.0</td>\n",
       "      <td>3.6</td>\n",
       "      <td>1.4</td>\n",
       "      <td>0.2</td>\n",
       "      <td>Iris-setosa</td>\n",
       "    </tr>\n",
       "  </tbody>\n",
       "</table>\n",
       "</div>"
      ],
      "text/plain": [
       "   sepal_length  sepal_width  petal_length  petal_width        class\n",
       "0           5.1          3.5           1.4          0.2  Iris-setosa\n",
       "1           4.9          3.0           1.4          0.2  Iris-setosa\n",
       "2           4.7          3.2           1.3          0.2  Iris-setosa\n",
       "3           4.6          3.1           1.5          0.2  Iris-setosa\n",
       "4           5.0          3.6           1.4          0.2  Iris-setosa"
      ]
     },
     "execution_count": 1,
     "metadata": {},
     "output_type": "execute_result"
    }
   ],
   "source": [
    "import pandas as pd\n",
    "\n",
    "df = pd.read_csv(\"https://archive.ics.uci.edu/ml/machine-learning-databases/iris/iris.data\",\n",
    "                 names=['sepal_length','sepal_width','petal_length','petal_width','class'])\n",
    "df.head()"
   ]
  },
  {
   "cell_type": "code",
   "execution_count": 2,
   "metadata": {
    "colab": {
     "base_uri": "https://localhost:8080/",
     "height": 247
    },
    "id": "QP0oU-bngFzK",
    "outputId": "e8475777-476f-4b1b-f808-c2fb9f354844"
   },
   "outputs": [
    {
     "data": {
      "text/markdown": [
       "### Scaling Independent Features "
      ],
      "text/plain": [
       "<IPython.core.display.Markdown object>"
      ]
     },
     "metadata": {},
     "output_type": "display_data"
    },
    {
     "data": {
      "text/html": [
       "<div>\n",
       "<style scoped>\n",
       "    .dataframe tbody tr th:only-of-type {\n",
       "        vertical-align: middle;\n",
       "    }\n",
       "\n",
       "    .dataframe tbody tr th {\n",
       "        vertical-align: top;\n",
       "    }\n",
       "\n",
       "    .dataframe thead th {\n",
       "        text-align: right;\n",
       "    }\n",
       "</style>\n",
       "<table border=\"1\" class=\"dataframe\">\n",
       "  <thead>\n",
       "    <tr style=\"text-align: right;\">\n",
       "      <th></th>\n",
       "      <th>sepal_length</th>\n",
       "      <th>sepal_width</th>\n",
       "      <th>petal_length</th>\n",
       "      <th>petal_width</th>\n",
       "    </tr>\n",
       "  </thead>\n",
       "  <tbody>\n",
       "    <tr>\n",
       "      <th>0</th>\n",
       "      <td>-0.900681</td>\n",
       "      <td>1.032057</td>\n",
       "      <td>-1.341272</td>\n",
       "      <td>-1.312977</td>\n",
       "    </tr>\n",
       "    <tr>\n",
       "      <th>1</th>\n",
       "      <td>-1.143017</td>\n",
       "      <td>-0.124958</td>\n",
       "      <td>-1.341272</td>\n",
       "      <td>-1.312977</td>\n",
       "    </tr>\n",
       "    <tr>\n",
       "      <th>2</th>\n",
       "      <td>-1.385353</td>\n",
       "      <td>0.337848</td>\n",
       "      <td>-1.398138</td>\n",
       "      <td>-1.312977</td>\n",
       "    </tr>\n",
       "    <tr>\n",
       "      <th>3</th>\n",
       "      <td>-1.506521</td>\n",
       "      <td>0.106445</td>\n",
       "      <td>-1.284407</td>\n",
       "      <td>-1.312977</td>\n",
       "    </tr>\n",
       "    <tr>\n",
       "      <th>4</th>\n",
       "      <td>-1.021849</td>\n",
       "      <td>1.263460</td>\n",
       "      <td>-1.341272</td>\n",
       "      <td>-1.312977</td>\n",
       "    </tr>\n",
       "  </tbody>\n",
       "</table>\n",
       "</div>"
      ],
      "text/plain": [
       "   sepal_length  sepal_width  petal_length  petal_width\n",
       "0     -0.900681     1.032057     -1.341272    -1.312977\n",
       "1     -1.143017    -0.124958     -1.341272    -1.312977\n",
       "2     -1.385353     0.337848     -1.398138    -1.312977\n",
       "3     -1.506521     0.106445     -1.284407    -1.312977\n",
       "4     -1.021849     1.263460     -1.341272    -1.312977"
      ]
     },
     "execution_count": 2,
     "metadata": {},
     "output_type": "execute_result"
    }
   ],
   "source": [
    "from IPython.display import Markdown, display\n",
    "from sklearn import preprocessing\n",
    "\n",
    "display(Markdown(\"### Scaling Independent Features \"))\n",
    "X = df.drop('class', axis=1)\n",
    "X = preprocessing.scale(X)\n",
    "X = pd.DataFrame(X, \n",
    "                columns=['sepal_length','sepal_width','petal_length','petal_width'])\n",
    "X.head()"
   ]
  },
  {
   "cell_type": "code",
   "execution_count": 3,
   "metadata": {
    "colab": {
     "base_uri": "https://localhost:8080/",
     "height": 216
    },
    "id": "xHDMLA21iNTT",
    "outputId": "ba169d2a-7181-45f2-a05e-f28f7b706b93"
   },
   "outputs": [
    {
     "data": {
      "text/markdown": [
       "### Correlation Coefficients "
      ],
      "text/plain": [
       "<IPython.core.display.Markdown object>"
      ]
     },
     "metadata": {},
     "output_type": "display_data"
    },
    {
     "data": {
      "text/html": [
       "<div>\n",
       "<style scoped>\n",
       "    .dataframe tbody tr th:only-of-type {\n",
       "        vertical-align: middle;\n",
       "    }\n",
       "\n",
       "    .dataframe tbody tr th {\n",
       "        vertical-align: top;\n",
       "    }\n",
       "\n",
       "    .dataframe thead th {\n",
       "        text-align: right;\n",
       "    }\n",
       "</style>\n",
       "<table border=\"1\" class=\"dataframe\">\n",
       "  <thead>\n",
       "    <tr style=\"text-align: right;\">\n",
       "      <th></th>\n",
       "      <th>sepal_length</th>\n",
       "      <th>sepal_width</th>\n",
       "      <th>petal_length</th>\n",
       "      <th>petal_width</th>\n",
       "    </tr>\n",
       "  </thead>\n",
       "  <tbody>\n",
       "    <tr>\n",
       "      <th>sepal_length</th>\n",
       "      <td>1.000000</td>\n",
       "      <td>-0.109369</td>\n",
       "      <td>0.871754</td>\n",
       "      <td>0.817954</td>\n",
       "    </tr>\n",
       "    <tr>\n",
       "      <th>sepal_width</th>\n",
       "      <td>-0.109369</td>\n",
       "      <td>1.000000</td>\n",
       "      <td>-0.420516</td>\n",
       "      <td>-0.356544</td>\n",
       "    </tr>\n",
       "    <tr>\n",
       "      <th>petal_length</th>\n",
       "      <td>0.871754</td>\n",
       "      <td>-0.420516</td>\n",
       "      <td>1.000000</td>\n",
       "      <td>0.962757</td>\n",
       "    </tr>\n",
       "    <tr>\n",
       "      <th>petal_width</th>\n",
       "      <td>0.817954</td>\n",
       "      <td>-0.356544</td>\n",
       "      <td>0.962757</td>\n",
       "      <td>1.000000</td>\n",
       "    </tr>\n",
       "  </tbody>\n",
       "</table>\n",
       "</div>"
      ],
      "text/plain": [
       "              sepal_length  sepal_width  petal_length  petal_width\n",
       "sepal_length      1.000000    -0.109369      0.871754     0.817954\n",
       "sepal_width      -0.109369     1.000000     -0.420516    -0.356544\n",
       "petal_length      0.871754    -0.420516      1.000000     0.962757\n",
       "petal_width       0.817954    -0.356544      0.962757     1.000000"
      ]
     },
     "execution_count": 3,
     "metadata": {},
     "output_type": "execute_result"
    }
   ],
   "source": [
    "display(Markdown(\"### Correlation Coefficients \"))\n",
    "corr_X = X.corr()\n",
    "corr_X"
   ]
  },
  {
   "cell_type": "code",
   "execution_count": 4,
   "metadata": {
    "colab": {
     "base_uri": "https://localhost:8080/",
     "height": 216
    },
    "id": "G3fGQ-ALkJqe",
    "outputId": "dc52d9b5-205f-42ea-9a3a-0abff729903f"
   },
   "outputs": [
    {
     "data": {
      "text/markdown": [
       "### Covariance "
      ],
      "text/plain": [
       "<IPython.core.display.Markdown object>"
      ]
     },
     "metadata": {},
     "output_type": "display_data"
    },
    {
     "data": {
      "text/html": [
       "<div>\n",
       "<style scoped>\n",
       "    .dataframe tbody tr th:only-of-type {\n",
       "        vertical-align: middle;\n",
       "    }\n",
       "\n",
       "    .dataframe tbody tr th {\n",
       "        vertical-align: top;\n",
       "    }\n",
       "\n",
       "    .dataframe thead th {\n",
       "        text-align: right;\n",
       "    }\n",
       "</style>\n",
       "<table border=\"1\" class=\"dataframe\">\n",
       "  <thead>\n",
       "    <tr style=\"text-align: right;\">\n",
       "      <th></th>\n",
       "      <th>sepal_length</th>\n",
       "      <th>sepal_width</th>\n",
       "      <th>petal_length</th>\n",
       "      <th>petal_width</th>\n",
       "    </tr>\n",
       "  </thead>\n",
       "  <tbody>\n",
       "    <tr>\n",
       "      <th>sepal_length</th>\n",
       "      <td>1.006711</td>\n",
       "      <td>-0.110103</td>\n",
       "      <td>0.877605</td>\n",
       "      <td>0.823443</td>\n",
       "    </tr>\n",
       "    <tr>\n",
       "      <th>sepal_width</th>\n",
       "      <td>-0.110103</td>\n",
       "      <td>1.006711</td>\n",
       "      <td>-0.423338</td>\n",
       "      <td>-0.358937</td>\n",
       "    </tr>\n",
       "    <tr>\n",
       "      <th>petal_length</th>\n",
       "      <td>0.877605</td>\n",
       "      <td>-0.423338</td>\n",
       "      <td>1.006711</td>\n",
       "      <td>0.969219</td>\n",
       "    </tr>\n",
       "    <tr>\n",
       "      <th>petal_width</th>\n",
       "      <td>0.823443</td>\n",
       "      <td>-0.358937</td>\n",
       "      <td>0.969219</td>\n",
       "      <td>1.006711</td>\n",
       "    </tr>\n",
       "  </tbody>\n",
       "</table>\n",
       "</div>"
      ],
      "text/plain": [
       "              sepal_length  sepal_width  petal_length  petal_width\n",
       "sepal_length      1.006711    -0.110103      0.877605     0.823443\n",
       "sepal_width      -0.110103     1.006711     -0.423338    -0.358937\n",
       "petal_length      0.877605    -0.423338      1.006711     0.969219\n",
       "petal_width       0.823443    -0.358937      0.969219     1.006711"
      ]
     },
     "execution_count": 4,
     "metadata": {},
     "output_type": "execute_result"
    }
   ],
   "source": [
    "display(Markdown(\"### Covariance \"))\n",
    "cov_X = X.cov()\n",
    "cov_X"
   ]
  },
  {
   "cell_type": "code",
   "execution_count": 5,
   "metadata": {
    "colab": {
     "base_uri": "https://localhost:8080/",
     "height": 145
    },
    "id": "J9s_hkpvnBc9",
    "outputId": "cc0aa53b-04cb-4f83-bdb9-9172a56aca55"
   },
   "outputs": [
    {
     "data": {
      "text/markdown": [
       "### Principal Component Analysis"
      ],
      "text/plain": [
       "<IPython.core.display.Markdown object>"
      ]
     },
     "metadata": {},
     "output_type": "display_data"
    },
    {
     "name": "stdout",
     "output_type": "stream",
     "text": [
      "Components : \n",
      "[[ 0.52237162 -0.26335492  0.58125401  0.56561105]\n",
      " [ 0.37231836  0.92555649  0.02109478  0.06541577]\n",
      " [-0.72101681  0.24203288  0.14089226  0.6338014 ]\n",
      " [-0.26199559  0.12413481  0.80115427 -0.52354627]]\n"
     ]
    }
   ],
   "source": [
    "from sklearn.decomposition import PCA\n",
    "\n",
    "display(Markdown(\"### Principal Component Analysis\"))\n",
    "\n",
    "pca = PCA(n_components=4)\n",
    "pca.fit(X)\n",
    "print(\"Components : \\n{0}\".format(pca.components_))"
   ]
  },
  {
   "cell_type": "code",
   "execution_count": 6,
   "metadata": {
    "id": "OeLErsAlrqt4"
   },
   "outputs": [],
   "source": [
    "X_pca = pca.fit_transform(X)\n",
    "X_pca = pd.DataFrame(X_pca,\n",
    "                     columns=['pca_sepal_length','pca_sepal_width','pca_petal_length','pca_petal_width'])"
   ]
  },
  {
   "cell_type": "code",
   "execution_count": 7,
   "metadata": {
    "colab": {
     "base_uri": "https://localhost:8080/",
     "height": 424
    },
    "id": "v2oH7GOztBB2",
    "outputId": "0a6caa54-2c1d-4df1-df81-e5c2a5896e44"
   },
   "outputs": [
    {
     "data": {
      "text/html": [
       "<div>\n",
       "<style scoped>\n",
       "    .dataframe tbody tr th:only-of-type {\n",
       "        vertical-align: middle;\n",
       "    }\n",
       "\n",
       "    .dataframe tbody tr th {\n",
       "        vertical-align: top;\n",
       "    }\n",
       "\n",
       "    .dataframe thead th {\n",
       "        text-align: right;\n",
       "    }\n",
       "</style>\n",
       "<table border=\"1\" class=\"dataframe\">\n",
       "  <thead>\n",
       "    <tr style=\"text-align: right;\">\n",
       "      <th></th>\n",
       "      <th>pca_sepal_length</th>\n",
       "      <th>pca_sepal_width</th>\n",
       "      <th>pca_petal_length</th>\n",
       "      <th>pca_petal_width</th>\n",
       "    </tr>\n",
       "  </thead>\n",
       "  <tbody>\n",
       "    <tr>\n",
       "      <th>0</th>\n",
       "      <td>-2.264542</td>\n",
       "      <td>0.505704</td>\n",
       "      <td>-0.121943</td>\n",
       "      <td>-0.023073</td>\n",
       "    </tr>\n",
       "    <tr>\n",
       "      <th>1</th>\n",
       "      <td>-2.086426</td>\n",
       "      <td>-0.655405</td>\n",
       "      <td>-0.227251</td>\n",
       "      <td>-0.103208</td>\n",
       "    </tr>\n",
       "    <tr>\n",
       "      <th>2</th>\n",
       "      <td>-2.367950</td>\n",
       "      <td>-0.318477</td>\n",
       "      <td>0.051480</td>\n",
       "      <td>-0.027825</td>\n",
       "    </tr>\n",
       "    <tr>\n",
       "      <th>3</th>\n",
       "      <td>-2.304197</td>\n",
       "      <td>-0.575368</td>\n",
       "      <td>0.098860</td>\n",
       "      <td>0.066311</td>\n",
       "    </tr>\n",
       "    <tr>\n",
       "      <th>4</th>\n",
       "      <td>-2.388777</td>\n",
       "      <td>0.674767</td>\n",
       "      <td>0.021428</td>\n",
       "      <td>0.037397</td>\n",
       "    </tr>\n",
       "    <tr>\n",
       "      <th>...</th>\n",
       "      <td>...</td>\n",
       "      <td>...</td>\n",
       "      <td>...</td>\n",
       "      <td>...</td>\n",
       "    </tr>\n",
       "    <tr>\n",
       "      <th>145</th>\n",
       "      <td>1.870522</td>\n",
       "      <td>0.382822</td>\n",
       "      <td>0.254532</td>\n",
       "      <td>-0.388890</td>\n",
       "    </tr>\n",
       "    <tr>\n",
       "      <th>146</th>\n",
       "      <td>1.558492</td>\n",
       "      <td>-0.905314</td>\n",
       "      <td>-0.025382</td>\n",
       "      <td>-0.221322</td>\n",
       "    </tr>\n",
       "    <tr>\n",
       "      <th>147</th>\n",
       "      <td>1.520845</td>\n",
       "      <td>0.266795</td>\n",
       "      <td>0.179277</td>\n",
       "      <td>-0.118903</td>\n",
       "    </tr>\n",
       "    <tr>\n",
       "      <th>148</th>\n",
       "      <td>1.376391</td>\n",
       "      <td>1.016362</td>\n",
       "      <td>0.931405</td>\n",
       "      <td>-0.024146</td>\n",
       "    </tr>\n",
       "    <tr>\n",
       "      <th>149</th>\n",
       "      <td>0.959299</td>\n",
       "      <td>-0.022284</td>\n",
       "      <td>0.528794</td>\n",
       "      <td>0.163676</td>\n",
       "    </tr>\n",
       "  </tbody>\n",
       "</table>\n",
       "<p>150 rows × 4 columns</p>\n",
       "</div>"
      ],
      "text/plain": [
       "     pca_sepal_length  pca_sepal_width  pca_petal_length  pca_petal_width\n",
       "0           -2.264542         0.505704         -0.121943        -0.023073\n",
       "1           -2.086426        -0.655405         -0.227251        -0.103208\n",
       "2           -2.367950        -0.318477          0.051480        -0.027825\n",
       "3           -2.304197        -0.575368          0.098860         0.066311\n",
       "4           -2.388777         0.674767          0.021428         0.037397\n",
       "..                ...              ...               ...              ...\n",
       "145          1.870522         0.382822          0.254532        -0.388890\n",
       "146          1.558492        -0.905314         -0.025382        -0.221322\n",
       "147          1.520845         0.266795          0.179277        -0.118903\n",
       "148          1.376391         1.016362          0.931405        -0.024146\n",
       "149          0.959299        -0.022284          0.528794         0.163676\n",
       "\n",
       "[150 rows x 4 columns]"
      ]
     },
     "execution_count": 7,
     "metadata": {},
     "output_type": "execute_result"
    }
   ],
   "source": [
    "X_pca"
   ]
  },
  {
   "cell_type": "code",
   "execution_count": 8,
   "metadata": {
    "colab": {
     "base_uri": "https://localhost:8080/",
     "height": 226
    },
    "id": "AoSd9NZJtzQv",
    "outputId": "0ff8d42e-8014-4721-de68-ba7bd906dbc3"
   },
   "outputs": [
    {
     "data": {
      "text/html": [
       "<div>\n",
       "<style scoped>\n",
       "    .dataframe tbody tr th:only-of-type {\n",
       "        vertical-align: middle;\n",
       "    }\n",
       "\n",
       "    .dataframe tbody tr th {\n",
       "        vertical-align: top;\n",
       "    }\n",
       "\n",
       "    .dataframe thead th {\n",
       "        text-align: right;\n",
       "    }\n",
       "</style>\n",
       "<table border=\"1\" class=\"dataframe\">\n",
       "  <thead>\n",
       "    <tr style=\"text-align: right;\">\n",
       "      <th></th>\n",
       "      <th>sepal_length</th>\n",
       "      <th>sepal_width</th>\n",
       "      <th>petal_length</th>\n",
       "      <th>petal_width</th>\n",
       "      <th>pca_sepal_length</th>\n",
       "      <th>pca_sepal_width</th>\n",
       "      <th>pca_petal_length</th>\n",
       "      <th>pca_petal_width</th>\n",
       "    </tr>\n",
       "  </thead>\n",
       "  <tbody>\n",
       "    <tr>\n",
       "      <th>0</th>\n",
       "      <td>-0.900681</td>\n",
       "      <td>1.032057</td>\n",
       "      <td>-1.341272</td>\n",
       "      <td>-1.312977</td>\n",
       "      <td>-2.264542</td>\n",
       "      <td>0.505704</td>\n",
       "      <td>-0.121943</td>\n",
       "      <td>-0.023073</td>\n",
       "    </tr>\n",
       "    <tr>\n",
       "      <th>1</th>\n",
       "      <td>-1.143017</td>\n",
       "      <td>-0.124958</td>\n",
       "      <td>-1.341272</td>\n",
       "      <td>-1.312977</td>\n",
       "      <td>-2.086426</td>\n",
       "      <td>-0.655405</td>\n",
       "      <td>-0.227251</td>\n",
       "      <td>-0.103208</td>\n",
       "    </tr>\n",
       "    <tr>\n",
       "      <th>2</th>\n",
       "      <td>-1.385353</td>\n",
       "      <td>0.337848</td>\n",
       "      <td>-1.398138</td>\n",
       "      <td>-1.312977</td>\n",
       "      <td>-2.367950</td>\n",
       "      <td>-0.318477</td>\n",
       "      <td>0.051480</td>\n",
       "      <td>-0.027825</td>\n",
       "    </tr>\n",
       "    <tr>\n",
       "      <th>3</th>\n",
       "      <td>-1.506521</td>\n",
       "      <td>0.106445</td>\n",
       "      <td>-1.284407</td>\n",
       "      <td>-1.312977</td>\n",
       "      <td>-2.304197</td>\n",
       "      <td>-0.575368</td>\n",
       "      <td>0.098860</td>\n",
       "      <td>0.066311</td>\n",
       "    </tr>\n",
       "    <tr>\n",
       "      <th>4</th>\n",
       "      <td>-1.021849</td>\n",
       "      <td>1.263460</td>\n",
       "      <td>-1.341272</td>\n",
       "      <td>-1.312977</td>\n",
       "      <td>-2.388777</td>\n",
       "      <td>0.674767</td>\n",
       "      <td>0.021428</td>\n",
       "      <td>0.037397</td>\n",
       "    </tr>\n",
       "  </tbody>\n",
       "</table>\n",
       "</div>"
      ],
      "text/plain": [
       "   sepal_length  sepal_width  petal_length  petal_width  pca_sepal_length  \\\n",
       "0     -0.900681     1.032057     -1.341272    -1.312977         -2.264542   \n",
       "1     -1.143017    -0.124958     -1.341272    -1.312977         -2.086426   \n",
       "2     -1.385353     0.337848     -1.398138    -1.312977         -2.367950   \n",
       "3     -1.506521     0.106445     -1.284407    -1.312977         -2.304197   \n",
       "4     -1.021849     1.263460     -1.341272    -1.312977         -2.388777   \n",
       "\n",
       "   pca_sepal_width  pca_petal_length  pca_petal_width  \n",
       "0         0.505704         -0.121943        -0.023073  \n",
       "1        -0.655405         -0.227251        -0.103208  \n",
       "2        -0.318477          0.051480        -0.027825  \n",
       "3        -0.575368          0.098860         0.066311  \n",
       "4         0.674767          0.021428         0.037397  "
      ]
     },
     "execution_count": 8,
     "metadata": {},
     "output_type": "execute_result"
    }
   ],
   "source": [
    "X = pd.concat([X, X_pca], axis=1)\n",
    "X.head()"
   ]
  },
  {
   "cell_type": "code",
   "execution_count": 9,
   "metadata": {
    "colab": {
     "base_uri": "https://localhost:8080/",
     "height": 596
    },
    "id": "3j3R_6EIuVyh",
    "outputId": "c317662b-40a2-41a5-d386-bae5e80da197"
   },
   "outputs": [
    {
     "data": {
      "image/png": "[encoded data removed]",
      "text/plain": [
       "<Figure size 720x648 with 2 Axes>"
      ]
     },
     "metadata": {
      "needs_background": "light"
     },
     "output_type": "display_data"
    }
   ],
   "source": [
    "import matplotlib.pyplot as plt\n",
    "import seaborn as sns\n",
    "\n",
    "f, ax = plt.subplots(figsize=(10,9))\n",
    "ax = sns.heatmap(X.corr(), annot=True, square=True)"
   ]
  },
  {
   "cell_type": "markdown",
   "metadata": {
    "id": "uFETh3tfweQ1"
   },
   "source": [
    "****\n",
    "## Question 2"
   ]
  },
  {
   "cell_type": "markdown",
   "metadata": {
    "id": "enmz2Vb7uYE8"
   },
   "source": [
    "1. Each of the new PCA feature generated has a somewhat high correlation with old features when compared to the correlation they have with other PCA features. The new features generated by the PCA is a matrix multiplication of the old data and the eigenvectors, ie. principal components.\n",
    "\n",
    "2. Linear Combinations. Each new attribute is a linear combination of the original attribute, ie. principal components are linear combinations of the original data."
   ]
  },
  {
   "cell_type": "markdown",
   "metadata": {
    "id": "PNpD1irQwogA"
   },
   "source": [
    "****\n",
    "## Question 3"
   ]
  },
  {
   "cell_type": "markdown",
   "metadata": {},
   "source": [
    "My implementation of decision tree relies on the Node class doing most of the work. The decision tree class initialises one node object, root, and calls the build_branch method on it. This method recursively builds a tree splitting on data using either gini index or gain ratio. It handles numerical, binary and multi-class data. The decision tree class also does the job of predicting. Predicting is as simple as traversing the root and checking for values in row."
   ]
  },
  {
   "cell_type": "code",
   "execution_count": 10,
   "metadata": {
    "id": "pBONPDZJwrCO"
   },
   "outputs": [],
   "source": [
    "import pandas as pd\n",
    "import numpy as np\n",
    "from collections import Counter\n",
    "from operator import itemgetter\n",
    "from math import log\n",
    "from pprint import pprint\n",
    "import itertools\n",
    "import random\n",
    "from sklearn.metrics import accuracy_score\n",
    "\n",
    "class Node:\n",
    "    \"\"\"\n",
    "        Class for nodes of the decision tree. Most of the work is done by them.\n",
    "        They recursively build branches off of each other. \n",
    "    \"\"\"\n",
    "    def __init__(self, X, Y, eval_method):\n",
    "        \"\"\"\n",
    "            X -> independent features\n",
    "            Y -> dependent features\n",
    "            eval_method -> g for gini index\n",
    "                           gr for gain ratio\n",
    "        \"\"\"\n",
    "        self.right = None\n",
    "        self.left = None\n",
    "        self.X = X\n",
    "        self.Y = Y\n",
    "        self.types = self.dtypes()\n",
    "        self.eval_method = eval_method\n",
    "        self.impurity_before = self.impurity_b()\n",
    "        self.split_feature = None\n",
    "        self.info = {}\n",
    "        self.split_condition = None\n",
    "        self.is_leaf = False\n",
    "        \n",
    "    def has_children(self): return True if self.left or self.right else False\n",
    "    \n",
    "    def print_info(self) : \n",
    "        return self.info\n",
    "    \n",
    "    def impurity_b(self): \n",
    "        \"\"\"\n",
    "            Calculates the entropy/gini before any split happens\n",
    "        \"\"\"\n",
    "        if self.eval_method == 'g':\n",
    "            gini = 1\n",
    "            for label in self.Y.unique():\n",
    "                gini += -1 * np.square(len(self.Y.loc[self.Y == label])/len(self.Y))\n",
    "            return gini\n",
    "        else :\n",
    "            entropy = []\n",
    "            for label in self.Y.unique() :\n",
    "                en = len(self.Y.loc[self.Y == label])/len(self.Y) * log(len(self.Y.loc[self.Y == label])/len(self.Y), 2)\n",
    "                entropy.append(en)\n",
    "            return -1 * sum(entropy)\n",
    "        \n",
    "    def dtypes(self):\n",
    "        \"\"\"\n",
    "            Returns the data types of features, n is numerical\n",
    "                                                m is multiclass\n",
    "                                                b is binary\n",
    "            if numerical data doesn't have more than 6 unique values,\n",
    "            it is classified as multiclass.\n",
    "        \"\"\"\n",
    "        types = {}\n",
    "        for f in self.X.columns :\n",
    "            if self.X[f].dtype != \"O\" :\n",
    "                if self.X[f].nunique() > 4 : types[f] = 'n'\n",
    "                else : types[f] = 'm'\n",
    "            else :\n",
    "                if self.X[f].nunique() <= 2: types[f] = 'b'\n",
    "                else : types[f] = 'm'\n",
    "        return types\n",
    "\n",
    "    def impurity_multi(self, f):\n",
    "        \"\"\"\n",
    "            Calculates either gini index or gain ratio for feature 'f' depending on user input.\n",
    "            This method is for binary or multiclass data.\n",
    "        \"\"\"\n",
    "        values = []\n",
    "        combos = []\n",
    "        total = len(self.Y)\n",
    "        for i in range(0, self.X[f].nunique()):\n",
    "            combos = combos + list(itertools.combinations(self.X[f].unique(), i))\n",
    "        for combo in combos :\n",
    "            yes = Counter(self.Y.loc[self.X[f].isin(combo)])\n",
    "            no = Counter(self.Y.loc[~self.X[f].isin(combo)])\n",
    "\n",
    "            impurity = None\n",
    "            if self.eval_method == 'g' :    \n",
    "                gini_yes = 1 - sum( [(yes[k]/sum(yes.values()))**2 for k in yes.keys()] )\n",
    "                gini_no = 1 - sum( [(no[k]/sum(no.values()))**2 for k in no.keys()] )\n",
    "                impurity = (sum(yes.values())/total * gini_yes) + (sum(no.values())/total *gini_no)\n",
    "            else :\n",
    "                entropy_yes = -1 * sum([(yes[k]/sum(yes.values())) * log(yes[k]/sum(yes.values()), 2) for k in yes.keys()])\n",
    "                entropy_no = -1 * sum([(no[k]/sum(no.values())) * log(no[k]/sum(no.values()), 2) for k in no.keys()])\n",
    "                entropy = (sum(yes.values())/total * entropy_yes) + (sum(no.values())/total * entropy_no)\n",
    "                info_gain = self.impurity_before - entropy\n",
    "                split_info = sum([-1 * v/(sum(yes.values()) + sum(no.values())) * \n",
    "                                  log(v/(sum(yes.values()) + sum(no.values())),2) for v in yes.values()])\n",
    "                split_info += sum([-1 * v/(sum(yes.values()) + sum(no.values())) * \n",
    "                                  log(v/(sum(yes.values()) + sum(no.values())),2) for v in no.values()])\n",
    "                impurity = info_gain / split_info\n",
    "\n",
    "            values.append(impurity)\n",
    "        return values, combos\n",
    "    \n",
    "    def impurity_numerical(self, f):\n",
    "        \"\"\"\n",
    "            Calculates either gini index or gain ratio for feature 'f' depending on user input.\n",
    "            This method is for numerical data.\n",
    "        \"\"\"\n",
    "        values = []\n",
    "        combos = []\n",
    "        total = len(self.Y)\n",
    "        sorted_vals = self.X[f].unique()\n",
    "        sorted_vals.sort()\n",
    "        for i in range(len(sorted_vals)-1):\n",
    "            avg = (sorted_vals[i] + sorted_vals[i+1]) / 2\n",
    "            yes = Counter(self.Y.loc[self.X[f] <= avg])\n",
    "            no = Counter(self.Y.loc[self.X[f] > avg])\n",
    "            impurity = None\n",
    "            if self.eval_method == 'g' :\n",
    "                gini_yes = 1 - sum( [(yes[k]/sum(yes.values()))**2 for k in yes.keys()] )\n",
    "                gini_no = 1 - sum( [(no[k]/sum(no.values()))**2 for k in no.keys()] )\n",
    "                impurity = (sum(yes.values())/total * gini_yes) + (sum(no.values())/total *gini_no)\n",
    "            else :\n",
    "                entropy_yes = -1 * sum([(yes[k]/sum(yes.values())) * log(yes[k]/sum(yes.values()), 2) for k in yes.keys()])\n",
    "                entropy_no = -1 * sum([(no[k]/sum(no.values())) * log(no[k]/sum(no.values()), 2) for k in no.keys()])\n",
    "                entropy = (sum(yes.values())/total * entropy_yes) + (sum(no.values())/total * entropy_no)\n",
    "                info_gain = self.impurity_before - entropy\n",
    "                split_info = sum([-1 * v/(sum(yes.values()) + sum(no.values())) * \n",
    "                                  log(v/(sum(yes.values()) + sum(no.values())),2) for v in yes.values()])\n",
    "                split_info += sum([-1 * v/(sum(yes.values()) + sum(no.values())) * \n",
    "                                  log(v/(sum(yes.values()) + sum(no.values())),2) for v in no.values()])\n",
    "                impurity = info_gain / split_info\n",
    "            values.append(impurity)\n",
    "            combos.append(avg)\n",
    "        return values, combos\n",
    "    \n",
    "    def best_split(self):\n",
    "        \"\"\"\n",
    "            Calculates the best feature to split on for a node depending on the \n",
    "            impurity technique selected by user.\n",
    "        \"\"\"\n",
    "        impurity_vals = []\n",
    "        for f in self.X.columns :\n",
    "            impurity, combos = None, None\n",
    "            if self.types[f] == 'n': # numerical\n",
    "                impurity, combos = self.impurity_numerical(f)    \n",
    "            else: # binary/multi\n",
    "                impurity, combos = self.impurity_multi(f)\n",
    "            best, val = None, None\n",
    "            if self.eval_method == 'g':  #gini\n",
    "                best = combos[np.argmin(impurity)]\n",
    "                val = np.min(impurity)\n",
    "            else: #gain ratio (gr)\n",
    "                best = combos[np.argmax(impurity)]\n",
    "                val = np.max(impurity)\n",
    "            impurity_vals.append((f, best, val))\n",
    "            return impurity_vals\n",
    "    \n",
    "    def __impurity_check(self, vals):\n",
    "        if self.eval_method == 'g' : return self.impurity_b() < np.min(vals)\n",
    "        else : return self.impurity_b() < np.max(vals)\n",
    "    \n",
    "    def __get_split_combo(self, impurities, vals):\n",
    "        \"\"\"\n",
    "            Gets the combination for multiclass data\n",
    "        \"\"\"\n",
    "        split_f, best_combo = None, None\n",
    "        if self.eval_method == 'g': \n",
    "            split_f = impurities[np.argmin(vals)][0]\n",
    "            best_combo = impurities[np.argmin(vals)][1]\n",
    "        else:\n",
    "            split_f = impurities[np.argmax(vals)][0]\n",
    "            best_combo = impurities[np.argmax(vals)][1]\n",
    "        return split_f, best_combo\n",
    "    \n",
    "    def build_branch(self, depth=0) :\n",
    "        \"\"\"\n",
    "            Most of the hardwork is done here. This method is recursively called on the \n",
    "            root's left and right children. Data is split at nodes with the best feature \n",
    "            decided by the best_split method. \n",
    "        \"\"\"\n",
    "        if len(self.Y.unique()) == 1:\n",
    "            self.left = None\n",
    "            self.right = None\n",
    "            self.is_leaf = True\n",
    "            return self\n",
    "        \n",
    "        impurity_values = self.best_split()\n",
    "        vals = [val[2] for val in impurity_values]\n",
    "        split_f = None\n",
    "        best_combo = None\n",
    "        if self.__impurity_check(vals) or np.min(vals) <= 0:\n",
    "            print(\"terminating\")\n",
    "            self.left = None\n",
    "            self.right = None\n",
    "            self.is_leaf = True\n",
    "        else:\n",
    "\n",
    "            split_f ,best_combo = self.__get_split_combo(impurity_values, vals)\n",
    "            self.split_feature = split_f \n",
    "            self.split_condition = best_combo\n",
    "            left_x, left_y, right_x, right_y = None, None, None, None\n",
    "            if self.types[split_f] == 'm': # multiclass\n",
    "                left_x = self.X.loc[self.X[split_f].isin(best_combo)]\n",
    "                left_x.drop([split_f], axis=1, inplace=True)\n",
    "                left_y = self.Y.loc[self.X[split_f].isin(best_combo)]\n",
    "\n",
    "                right_x = self.X.loc[~self.X[split_f].isin(best_combo)]\n",
    "                right_y = self.Y.loc[~self.X[split_f].isin(best_combo)]\n",
    "                right_x.drop([split_f], axis=1, inplace=True)\n",
    "            else: # numerical\n",
    "                left_x = self.X.loc[self.X[split_f] <= best_combo]\n",
    "                left_x.drop([split_f], axis=1, inplace=True)\n",
    "                left_y = self.Y.loc[self.X[split_f] <= best_combo]    \n",
    "\n",
    "                right_x = self.X.loc[self.X[split_f] > best_combo]\n",
    "                right_y = self.Y.loc[self.X[split_f] > best_combo]\n",
    "                right_x.drop([split_f], axis=1, inplace=True)\n",
    "\n",
    "            if list(left_x.columns) == []:\n",
    "                print(\"terminating\")\n",
    "                self.left = None\n",
    "                self.is_leaf = True\n",
    "            elif len(set(left_y)) == 1:\n",
    "                print(\"terminating\")\n",
    "                self.left = None\n",
    "                self.is_leaf = True\n",
    "            else:\n",
    "                self.info['split_col'] = self.split_feature\n",
    "                self.left = Node(left_x, left_y, self.eval_method)\n",
    "                self.left.build_branch()\n",
    "                self.info['left_node'] = self.left.info  \n",
    "\n",
    "            if list(right_x.columns) == []:\n",
    "                print(\"terminating\")\n",
    "                self.right = None\n",
    "                self.is_leaf = True\n",
    "            elif len(set(right_y)) == 1:\n",
    "                print(\"terminating\")\n",
    "                self.right = None\n",
    "                self.is_leaf = True\n",
    "            else:\n",
    "                self.right = Node(right_x, right_y, self.eval_method)\n",
    "                self.right.build_branch()\n",
    "                self.info['right'] = self.right.info"
   ]
  },
  {
   "cell_type": "code",
   "execution_count": 11,
   "metadata": {},
   "outputs": [],
   "source": [
    "class Decision_Tree :\n",
    "    \"\"\"\n",
    "        This class relies on Node class for most of the work. This class \n",
    "        does the prediction and the traversal of the tree.\n",
    "    \"\"\"\n",
    "    def __init__(self):\n",
    "        self.root = None\n",
    "    \n",
    "    def fit(self, X, Y, eval_method):\n",
    "        self.root = Node(X,Y,eval_method)\n",
    "        self.root.build_branch()\n",
    "    \n",
    "    def predict(self, x):\n",
    "        \"\"\"\n",
    "            Traverses the tree accroding to the data provided and returns \n",
    "            a class label for each row provided.\n",
    "        \"\"\"\n",
    "        node = self.root\n",
    "        results = list()\n",
    "        for i, row in x.iterrows() : \n",
    "            while not node.is_leaf :\n",
    "                val = row[node.split_feature]\n",
    "                if node.has_children():\n",
    "                    if node.types[node.split_feature] == 'n':\n",
    "                        if val <= node.split_condition : node = node.left\n",
    "                        else : node = node.right\n",
    "                    else :\n",
    "                        if val in node.split_condition : node = node.left\n",
    "                        else : node = node.right\n",
    "            if(node.Y.nunique() > 1) : \n",
    "                rnd = random.randint(0,1)\n",
    "                results.append(node.Y.unique()[rnd])\n",
    "            else : results.append(node.Y.unique())\n",
    "        return results                \n",
    "    \n",
    "    def traverse(self, node):\n",
    "        \"\"\"\n",
    "            Traverse the tree starting at a node, ie. tree.root and print certain \n",
    "            attributes.\n",
    "        \"\"\"\n",
    "        \n",
    "        if node is None:\n",
    "            return\n",
    "        print(\"Split_col : {0}, Split_feature : {1}\".format(node.split_feature, \n",
    "                                                            node.split_condition))                \n",
    "        if node.left is not None:\n",
    "            print(\"+++++++++++++++++ LEFT NODE ++++++++++++++++\")\n",
    "            print(\"Left node columns : {0}\".format(node.left.X.columns))\n",
    "            print(\"Left node Y unique : {0}\".format(node.left.Y.unique()))\n",
    "        if node.right is not None:\n",
    "            print(\"+++++++++++++++++ RIGHT NODE ++++++++++++++++\")\n",
    "            print(\"Right node columns : {0}\".format(node.right.X.columns))\n",
    "            print(\"Right node Y unique : {0}\".format(node.right.Y.unique()))\n",
    "        print(\"++++++++++++++++++++++++++++++++++++++++++++++++++++++\")\n",
    "        if node.left is not None:\n",
    "            self.traverse(node.left)\n",
    "        if node.right is not None:\n",
    "            self.traverse(node.right)"
   ]
  },
  {
   "cell_type": "code",
   "execution_count": 12,
   "metadata": {},
   "outputs": [
    {
     "data": {
      "text/html": [
       "<div>\n",
       "<style scoped>\n",
       "    .dataframe tbody tr th:only-of-type {\n",
       "        vertical-align: middle;\n",
       "    }\n",
       "\n",
       "    .dataframe tbody tr th {\n",
       "        vertical-align: top;\n",
       "    }\n",
       "\n",
       "    .dataframe thead th {\n",
       "        text-align: right;\n",
       "    }\n",
       "</style>\n",
       "<table border=\"1\" class=\"dataframe\">\n",
       "  <thead>\n",
       "    <tr style=\"text-align: right;\">\n",
       "      <th></th>\n",
       "      <th>color</th>\n",
       "      <th>diameter</th>\n",
       "      <th>label</th>\n",
       "    </tr>\n",
       "  </thead>\n",
       "  <tbody>\n",
       "    <tr>\n",
       "      <th>0</th>\n",
       "      <td>Green</td>\n",
       "      <td>3</td>\n",
       "      <td>Apple</td>\n",
       "    </tr>\n",
       "    <tr>\n",
       "      <th>1</th>\n",
       "      <td>Yellow</td>\n",
       "      <td>3</td>\n",
       "      <td>Apple</td>\n",
       "    </tr>\n",
       "    <tr>\n",
       "      <th>2</th>\n",
       "      <td>Blue</td>\n",
       "      <td>1</td>\n",
       "      <td>Banana</td>\n",
       "    </tr>\n",
       "    <tr>\n",
       "      <th>3</th>\n",
       "      <td>Blue</td>\n",
       "      <td>1</td>\n",
       "      <td>Banana</td>\n",
       "    </tr>\n",
       "    <tr>\n",
       "      <th>4</th>\n",
       "      <td>Yellow</td>\n",
       "      <td>3</td>\n",
       "      <td>Lemon</td>\n",
       "    </tr>\n",
       "  </tbody>\n",
       "</table>\n",
       "</div>"
      ],
      "text/plain": [
       "    color  diameter   label\n",
       "0   Green         3   Apple\n",
       "1  Yellow         3   Apple\n",
       "2    Blue         1  Banana\n",
       "3    Blue         1  Banana\n",
       "4  Yellow         3   Lemon"
      ]
     },
     "execution_count": 12,
     "metadata": {},
     "output_type": "execute_result"
    }
   ],
   "source": [
    "toy = pd.DataFrame({'color':['Green','Yellow','Blue','Blue','Yellow'],\n",
    "                    'diameter':[3,3,1,1,3],\n",
    "                    'label':['Apple','Apple','Banana','Banana','Lemon']})\n",
    "toy.head()"
   ]
  },
  {
   "cell_type": "code",
   "execution_count": 13,
   "metadata": {},
   "outputs": [
    {
     "data": {
      "text/html": [
       "<div>\n",
       "<style scoped>\n",
       "    .dataframe tbody tr th:only-of-type {\n",
       "        vertical-align: middle;\n",
       "    }\n",
       "\n",
       "    .dataframe tbody tr th {\n",
       "        vertical-align: top;\n",
       "    }\n",
       "\n",
       "    .dataframe thead th {\n",
       "        text-align: right;\n",
       "    }\n",
       "</style>\n",
       "<table border=\"1\" class=\"dataframe\">\n",
       "  <thead>\n",
       "    <tr style=\"text-align: right;\">\n",
       "      <th></th>\n",
       "      <th>color</th>\n",
       "      <th>diameter</th>\n",
       "    </tr>\n",
       "  </thead>\n",
       "  <tbody>\n",
       "    <tr>\n",
       "      <th>0</th>\n",
       "      <td>Green</td>\n",
       "      <td>3</td>\n",
       "    </tr>\n",
       "    <tr>\n",
       "      <th>1</th>\n",
       "      <td>Yellow</td>\n",
       "      <td>3</td>\n",
       "    </tr>\n",
       "    <tr>\n",
       "      <th>2</th>\n",
       "      <td>Blue</td>\n",
       "      <td>1</td>\n",
       "    </tr>\n",
       "    <tr>\n",
       "      <th>3</th>\n",
       "      <td>Blue</td>\n",
       "      <td>1</td>\n",
       "    </tr>\n",
       "    <tr>\n",
       "      <th>4</th>\n",
       "      <td>Yellow</td>\n",
       "      <td>3</td>\n",
       "    </tr>\n",
       "  </tbody>\n",
       "</table>\n",
       "</div>"
      ],
      "text/plain": [
       "    color  diameter\n",
       "0   Green         3\n",
       "1  Yellow         3\n",
       "2    Blue         1\n",
       "3    Blue         1\n",
       "4  Yellow         3"
      ]
     },
     "execution_count": 13,
     "metadata": {},
     "output_type": "execute_result"
    }
   ],
   "source": [
    "X = toy.drop('label',axis=1)\n",
    "Y = toy['label']\n",
    "X.head()"
   ]
  },
  {
   "cell_type": "code",
   "execution_count": 14,
   "metadata": {},
   "outputs": [
    {
     "data": {
      "text/html": [
       "<div>\n",
       "<style scoped>\n",
       "    .dataframe tbody tr th:only-of-type {\n",
       "        vertical-align: middle;\n",
       "    }\n",
       "\n",
       "    .dataframe tbody tr th {\n",
       "        vertical-align: top;\n",
       "    }\n",
       "\n",
       "    .dataframe thead th {\n",
       "        text-align: right;\n",
       "    }\n",
       "</style>\n",
       "<table border=\"1\" class=\"dataframe\">\n",
       "  <thead>\n",
       "    <tr style=\"text-align: right;\">\n",
       "      <th></th>\n",
       "      <th>color</th>\n",
       "      <th>diameter</th>\n",
       "      <th>label</th>\n",
       "    </tr>\n",
       "  </thead>\n",
       "  <tbody>\n",
       "    <tr>\n",
       "      <th>0</th>\n",
       "      <td>Yellow</td>\n",
       "      <td>3</td>\n",
       "      <td>Apple</td>\n",
       "    </tr>\n",
       "    <tr>\n",
       "      <th>1</th>\n",
       "      <td>Green</td>\n",
       "      <td>3</td>\n",
       "      <td>Banana</td>\n",
       "    </tr>\n",
       "    <tr>\n",
       "      <th>2</th>\n",
       "      <td>Yellow</td>\n",
       "      <td>1</td>\n",
       "      <td>Lemon</td>\n",
       "    </tr>\n",
       "    <tr>\n",
       "      <th>3</th>\n",
       "      <td>Blue</td>\n",
       "      <td>1</td>\n",
       "      <td>Banana</td>\n",
       "    </tr>\n",
       "  </tbody>\n",
       "</table>\n",
       "</div>"
      ],
      "text/plain": [
       "    color diameter   label\n",
       "0  Yellow        3   Apple\n",
       "1   Green        3  Banana\n",
       "2  Yellow        1   Lemon\n",
       "3    Blue        1  Banana"
      ]
     },
     "execution_count": 14,
     "metadata": {},
     "output_type": "execute_result"
    }
   ],
   "source": [
    "toy_test = pd.DataFrame({'color':['Yellow','Green','Yellow','Blue'],\n",
    "                         'diameter':['3','3','1','1'],\n",
    "                         'label':['Apple','Banana','Lemon','Banana']})\n",
    "toy_test.head()"
   ]
  },
  {
   "cell_type": "code",
   "execution_count": 15,
   "metadata": {},
   "outputs": [],
   "source": [
    "x_t = toy_test.drop('label', axis=1)\n",
    "y_t = toy_test['label']"
   ]
  },
  {
   "cell_type": "code",
   "execution_count": 16,
   "metadata": {},
   "outputs": [
    {
     "name": "stdout",
     "output_type": "stream",
     "text": [
      "terminating\n",
      "terminating\n",
      "terminating\n"
     ]
    },
    {
     "name": "stderr",
     "output_type": "stream",
     "text": [
      "/home/rohit/anaconda3/envs/A3/lib/python3.7/site-packages/pandas/core/frame.py:4312: SettingWithCopyWarning: \n",
      "A value is trying to be set on a copy of a slice from a DataFrame\n",
      "\n",
      "See the caveats in the documentation: https://pandas.pydata.org/pandas-docs/stable/user_guide/indexing.html#returning-a-view-versus-a-copy\n",
      "  errors=errors,\n"
     ]
    }
   ],
   "source": [
    "tree = Decision_Tree()\n",
    "tree.fit(X,Y,'g')"
   ]
  },
  {
   "cell_type": "code",
   "execution_count": 17,
   "metadata": {},
   "outputs": [
    {
     "data": {
      "text/plain": [
       "0.75"
      ]
     },
     "execution_count": 17,
     "metadata": {},
     "output_type": "execute_result"
    }
   ],
   "source": [
    "y_pred = tree.predict(x_t)\n",
    "accuracy_score(y_t, y_pred)"
   ]
  },
  {
   "cell_type": "code",
   "execution_count": 18,
   "metadata": {},
   "outputs": [
    {
     "data": {
      "text/plain": [
       "['Apple', 'Banana', 'Banana', 'Banana']"
      ]
     },
     "execution_count": 18,
     "metadata": {},
     "output_type": "execute_result"
    }
   ],
   "source": [
    "y_pred"
   ]
  },
  {
   "cell_type": "code",
   "execution_count": null,
   "metadata": {},
   "outputs": [],
   "source": []
  }
 ],
 "metadata": {
  "colab": {
   "collapsed_sections": [],
   "name": "PS1ipynb",
   "provenance": []
  },
  "kernelspec": {
   "display_name": "A3",
   "language": "python",
   "name": "a3"
  },
  "language_info": {
   "codemirror_mode": {
    "name": "ipython",
    "version": 3
   },
   "file_extension": ".py",
   "mimetype": "text/x-python",
   "name": "python",
   "nbconvert_exporter": "python",
   "pygments_lexer": "ipython3",
   "version": "3.7.9"
  }
 },
 "nbformat": 4,
 "nbformat_minor": 4
}
